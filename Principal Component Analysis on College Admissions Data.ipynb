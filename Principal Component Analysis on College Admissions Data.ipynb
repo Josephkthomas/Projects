{
 "cells": [
  {
   "cell_type": "code",
   "execution_count": 1,
   "metadata": {},
   "outputs": [],
   "source": [
    "import numpy as np\n",
    "import pandas as pd\n",
    "import seaborn as sns\n",
    "import matplotlib.pyplot as plt\n",
    "%matplotlib inline\n",
    "import statsmodels.api as sm\n",
    "import scipy.stats as stats # Many functions for probability distributions in python are in scipy.stats\n",
    "import os\n",
    "from scipy.stats import variation \n",
    "from scipy.stats import ttest_rel\n",
    "import statistics as s\n",
    "from statsmodels.formula.api import ols      # For n-way ANOVA\n",
    "from statsmodels.stats.anova import _get_covariance,anova_lm"
   ]
  },
  {
   "cell_type": "code",
   "execution_count": 2,
   "metadata": {},
   "outputs": [],
   "source": [
    "df=pd.read_csv('Education+-+Post+12th+Standard.csv')"
   ]
  },
  {
   "cell_type": "code",
   "execution_count": 3,
   "metadata": {},
   "outputs": [
    {
     "data": {
      "text/html": [
       "<div>\n",
       "<style scoped>\n",
       "    .dataframe tbody tr th:only-of-type {\n",
       "        vertical-align: middle;\n",
       "    }\n",
       "\n",
       "    .dataframe tbody tr th {\n",
       "        vertical-align: top;\n",
       "    }\n",
       "\n",
       "    .dataframe thead th {\n",
       "        text-align: right;\n",
       "    }\n",
       "</style>\n",
       "<table border=\"1\" class=\"dataframe\">\n",
       "  <thead>\n",
       "    <tr style=\"text-align: right;\">\n",
       "      <th></th>\n",
       "      <th>Names</th>\n",
       "      <th>Apps</th>\n",
       "      <th>Accept</th>\n",
       "      <th>Enroll</th>\n",
       "      <th>Top10perc</th>\n",
       "      <th>Top25perc</th>\n",
       "      <th>F.Undergrad</th>\n",
       "      <th>P.Undergrad</th>\n",
       "      <th>Outstate</th>\n",
       "      <th>Room.Board</th>\n",
       "      <th>Books</th>\n",
       "      <th>Personal</th>\n",
       "      <th>PhD</th>\n",
       "      <th>Terminal</th>\n",
       "      <th>S.F.Ratio</th>\n",
       "      <th>perc.alumni</th>\n",
       "      <th>Expend</th>\n",
       "      <th>Grad.Rate</th>\n",
       "    </tr>\n",
       "  </thead>\n",
       "  <tbody>\n",
       "    <tr>\n",
       "      <th>0</th>\n",
       "      <td>Abilene Christian University</td>\n",
       "      <td>1660</td>\n",
       "      <td>1232</td>\n",
       "      <td>721</td>\n",
       "      <td>23</td>\n",
       "      <td>52</td>\n",
       "      <td>2885</td>\n",
       "      <td>537</td>\n",
       "      <td>7440</td>\n",
       "      <td>3300</td>\n",
       "      <td>450</td>\n",
       "      <td>2200</td>\n",
       "      <td>70</td>\n",
       "      <td>78</td>\n",
       "      <td>18.1</td>\n",
       "      <td>12</td>\n",
       "      <td>7041</td>\n",
       "      <td>60</td>\n",
       "    </tr>\n",
       "    <tr>\n",
       "      <th>1</th>\n",
       "      <td>Adelphi University</td>\n",
       "      <td>2186</td>\n",
       "      <td>1924</td>\n",
       "      <td>512</td>\n",
       "      <td>16</td>\n",
       "      <td>29</td>\n",
       "      <td>2683</td>\n",
       "      <td>1227</td>\n",
       "      <td>12280</td>\n",
       "      <td>6450</td>\n",
       "      <td>750</td>\n",
       "      <td>1500</td>\n",
       "      <td>29</td>\n",
       "      <td>30</td>\n",
       "      <td>12.2</td>\n",
       "      <td>16</td>\n",
       "      <td>10527</td>\n",
       "      <td>56</td>\n",
       "    </tr>\n",
       "    <tr>\n",
       "      <th>2</th>\n",
       "      <td>Adrian College</td>\n",
       "      <td>1428</td>\n",
       "      <td>1097</td>\n",
       "      <td>336</td>\n",
       "      <td>22</td>\n",
       "      <td>50</td>\n",
       "      <td>1036</td>\n",
       "      <td>99</td>\n",
       "      <td>11250</td>\n",
       "      <td>3750</td>\n",
       "      <td>400</td>\n",
       "      <td>1165</td>\n",
       "      <td>53</td>\n",
       "      <td>66</td>\n",
       "      <td>12.9</td>\n",
       "      <td>30</td>\n",
       "      <td>8735</td>\n",
       "      <td>54</td>\n",
       "    </tr>\n",
       "    <tr>\n",
       "      <th>3</th>\n",
       "      <td>Agnes Scott College</td>\n",
       "      <td>417</td>\n",
       "      <td>349</td>\n",
       "      <td>137</td>\n",
       "      <td>60</td>\n",
       "      <td>89</td>\n",
       "      <td>510</td>\n",
       "      <td>63</td>\n",
       "      <td>12960</td>\n",
       "      <td>5450</td>\n",
       "      <td>450</td>\n",
       "      <td>875</td>\n",
       "      <td>92</td>\n",
       "      <td>97</td>\n",
       "      <td>7.7</td>\n",
       "      <td>37</td>\n",
       "      <td>19016</td>\n",
       "      <td>59</td>\n",
       "    </tr>\n",
       "    <tr>\n",
       "      <th>4</th>\n",
       "      <td>Alaska Pacific University</td>\n",
       "      <td>193</td>\n",
       "      <td>146</td>\n",
       "      <td>55</td>\n",
       "      <td>16</td>\n",
       "      <td>44</td>\n",
       "      <td>249</td>\n",
       "      <td>869</td>\n",
       "      <td>7560</td>\n",
       "      <td>4120</td>\n",
       "      <td>800</td>\n",
       "      <td>1500</td>\n",
       "      <td>76</td>\n",
       "      <td>72</td>\n",
       "      <td>11.9</td>\n",
       "      <td>2</td>\n",
       "      <td>10922</td>\n",
       "      <td>15</td>\n",
       "    </tr>\n",
       "  </tbody>\n",
       "</table>\n",
       "</div>"
      ],
      "text/plain": [
       "                          Names  Apps  Accept  Enroll  Top10perc  Top25perc  \\\n",
       "0  Abilene Christian University  1660    1232     721         23         52   \n",
       "1            Adelphi University  2186    1924     512         16         29   \n",
       "2                Adrian College  1428    1097     336         22         50   \n",
       "3           Agnes Scott College   417     349     137         60         89   \n",
       "4     Alaska Pacific University   193     146      55         16         44   \n",
       "\n",
       "   F.Undergrad  P.Undergrad  Outstate  Room.Board  Books  Personal  PhD  \\\n",
       "0         2885          537      7440        3300    450      2200   70   \n",
       "1         2683         1227     12280        6450    750      1500   29   \n",
       "2         1036           99     11250        3750    400      1165   53   \n",
       "3          510           63     12960        5450    450       875   92   \n",
       "4          249          869      7560        4120    800      1500   76   \n",
       "\n",
       "   Terminal  S.F.Ratio  perc.alumni  Expend  Grad.Rate  \n",
       "0        78       18.1           12    7041         60  \n",
       "1        30       12.2           16   10527         56  \n",
       "2        66       12.9           30    8735         54  \n",
       "3        97        7.7           37   19016         59  \n",
       "4        72       11.9            2   10922         15  "
      ]
     },
     "execution_count": 3,
     "metadata": {},
     "output_type": "execute_result"
    }
   ],
   "source": [
    "df.head()"
   ]
  },
  {
   "cell_type": "code",
   "execution_count": 4,
   "metadata": {},
   "outputs": [
    {
     "data": {
      "text/plain": [
       "(777, 18)"
      ]
     },
     "execution_count": 4,
     "metadata": {},
     "output_type": "execute_result"
    }
   ],
   "source": [
    "df.shape"
   ]
  },
  {
   "cell_type": "code",
   "execution_count": 5,
   "metadata": {},
   "outputs": [
    {
     "data": {
      "text/plain": [
       "Names          0\n",
       "Apps           0\n",
       "Accept         0\n",
       "Enroll         0\n",
       "Top10perc      0\n",
       "Top25perc      0\n",
       "F.Undergrad    0\n",
       "P.Undergrad    0\n",
       "Outstate       0\n",
       "Room.Board     0\n",
       "Books          0\n",
       "Personal       0\n",
       "PhD            0\n",
       "Terminal       0\n",
       "S.F.Ratio      0\n",
       "perc.alumni    0\n",
       "Expend         0\n",
       "Grad.Rate      0\n",
       "dtype: int64"
      ]
     },
     "execution_count": 5,
     "metadata": {},
     "output_type": "execute_result"
    }
   ],
   "source": [
    "df.isnull().sum()"
   ]
  },
  {
   "cell_type": "code",
   "execution_count": 6,
   "metadata": {},
   "outputs": [
    {
     "data": {
      "text/plain": [
       "Names           object\n",
       "Apps             int64\n",
       "Accept           int64\n",
       "Enroll           int64\n",
       "Top10perc        int64\n",
       "Top25perc        int64\n",
       "F.Undergrad      int64\n",
       "P.Undergrad      int64\n",
       "Outstate         int64\n",
       "Room.Board       int64\n",
       "Books            int64\n",
       "Personal         int64\n",
       "PhD              int64\n",
       "Terminal         int64\n",
       "S.F.Ratio      float64\n",
       "perc.alumni      int64\n",
       "Expend           int64\n",
       "Grad.Rate        int64\n",
       "dtype: object"
      ]
     },
     "execution_count": 6,
     "metadata": {},
     "output_type": "execute_result"
    }
   ],
   "source": [
    "\n",
    "df.dtypes"
   ]
  },
  {
   "cell_type": "code",
   "execution_count": 7,
   "metadata": {},
   "outputs": [
    {
     "data": {
      "text/html": [
       "<div>\n",
       "<style scoped>\n",
       "    .dataframe tbody tr th:only-of-type {\n",
       "        vertical-align: middle;\n",
       "    }\n",
       "\n",
       "    .dataframe tbody tr th {\n",
       "        vertical-align: top;\n",
       "    }\n",
       "\n",
       "    .dataframe thead th {\n",
       "        text-align: right;\n",
       "    }\n",
       "</style>\n",
       "<table border=\"1\" class=\"dataframe\">\n",
       "  <thead>\n",
       "    <tr style=\"text-align: right;\">\n",
       "      <th></th>\n",
       "      <th>Names</th>\n",
       "      <th>Apps</th>\n",
       "      <th>Accept</th>\n",
       "      <th>Enroll</th>\n",
       "      <th>Top10perc</th>\n",
       "      <th>Top25perc</th>\n",
       "      <th>F.Undergrad</th>\n",
       "      <th>P.Undergrad</th>\n",
       "      <th>Outstate</th>\n",
       "      <th>Room.Board</th>\n",
       "      <th>Books</th>\n",
       "      <th>Personal</th>\n",
       "      <th>PhD</th>\n",
       "      <th>Terminal</th>\n",
       "      <th>S.F.Ratio</th>\n",
       "      <th>perc.alumni</th>\n",
       "      <th>Expend</th>\n",
       "      <th>Grad.Rate</th>\n",
       "    </tr>\n",
       "  </thead>\n",
       "  <tbody>\n",
       "    <tr>\n",
       "      <th>count</th>\n",
       "      <td>777</td>\n",
       "      <td>777.000000</td>\n",
       "      <td>777.000000</td>\n",
       "      <td>777.000000</td>\n",
       "      <td>777.000000</td>\n",
       "      <td>777.000000</td>\n",
       "      <td>777.000000</td>\n",
       "      <td>777.000000</td>\n",
       "      <td>777.000000</td>\n",
       "      <td>777.000000</td>\n",
       "      <td>777.000000</td>\n",
       "      <td>777.000000</td>\n",
       "      <td>777.000000</td>\n",
       "      <td>777.000000</td>\n",
       "      <td>777.000000</td>\n",
       "      <td>777.000000</td>\n",
       "      <td>777.000000</td>\n",
       "      <td>777.00000</td>\n",
       "    </tr>\n",
       "    <tr>\n",
       "      <th>unique</th>\n",
       "      <td>777</td>\n",
       "      <td>NaN</td>\n",
       "      <td>NaN</td>\n",
       "      <td>NaN</td>\n",
       "      <td>NaN</td>\n",
       "      <td>NaN</td>\n",
       "      <td>NaN</td>\n",
       "      <td>NaN</td>\n",
       "      <td>NaN</td>\n",
       "      <td>NaN</td>\n",
       "      <td>NaN</td>\n",
       "      <td>NaN</td>\n",
       "      <td>NaN</td>\n",
       "      <td>NaN</td>\n",
       "      <td>NaN</td>\n",
       "      <td>NaN</td>\n",
       "      <td>NaN</td>\n",
       "      <td>NaN</td>\n",
       "    </tr>\n",
       "    <tr>\n",
       "      <th>top</th>\n",
       "      <td>Monmouth College</td>\n",
       "      <td>NaN</td>\n",
       "      <td>NaN</td>\n",
       "      <td>NaN</td>\n",
       "      <td>NaN</td>\n",
       "      <td>NaN</td>\n",
       "      <td>NaN</td>\n",
       "      <td>NaN</td>\n",
       "      <td>NaN</td>\n",
       "      <td>NaN</td>\n",
       "      <td>NaN</td>\n",
       "      <td>NaN</td>\n",
       "      <td>NaN</td>\n",
       "      <td>NaN</td>\n",
       "      <td>NaN</td>\n",
       "      <td>NaN</td>\n",
       "      <td>NaN</td>\n",
       "      <td>NaN</td>\n",
       "    </tr>\n",
       "    <tr>\n",
       "      <th>freq</th>\n",
       "      <td>1</td>\n",
       "      <td>NaN</td>\n",
       "      <td>NaN</td>\n",
       "      <td>NaN</td>\n",
       "      <td>NaN</td>\n",
       "      <td>NaN</td>\n",
       "      <td>NaN</td>\n",
       "      <td>NaN</td>\n",
       "      <td>NaN</td>\n",
       "      <td>NaN</td>\n",
       "      <td>NaN</td>\n",
       "      <td>NaN</td>\n",
       "      <td>NaN</td>\n",
       "      <td>NaN</td>\n",
       "      <td>NaN</td>\n",
       "      <td>NaN</td>\n",
       "      <td>NaN</td>\n",
       "      <td>NaN</td>\n",
       "    </tr>\n",
       "    <tr>\n",
       "      <th>mean</th>\n",
       "      <td>NaN</td>\n",
       "      <td>3001.638353</td>\n",
       "      <td>2018.804376</td>\n",
       "      <td>779.972973</td>\n",
       "      <td>27.558559</td>\n",
       "      <td>55.796654</td>\n",
       "      <td>3699.907336</td>\n",
       "      <td>855.298584</td>\n",
       "      <td>10440.669241</td>\n",
       "      <td>4357.526384</td>\n",
       "      <td>549.380952</td>\n",
       "      <td>1340.642214</td>\n",
       "      <td>72.660232</td>\n",
       "      <td>79.702703</td>\n",
       "      <td>14.089704</td>\n",
       "      <td>22.743887</td>\n",
       "      <td>9660.171171</td>\n",
       "      <td>65.46332</td>\n",
       "    </tr>\n",
       "    <tr>\n",
       "      <th>std</th>\n",
       "      <td>NaN</td>\n",
       "      <td>3870.201484</td>\n",
       "      <td>2451.113971</td>\n",
       "      <td>929.176190</td>\n",
       "      <td>17.640364</td>\n",
       "      <td>19.804778</td>\n",
       "      <td>4850.420531</td>\n",
       "      <td>1522.431887</td>\n",
       "      <td>4023.016484</td>\n",
       "      <td>1096.696416</td>\n",
       "      <td>165.105360</td>\n",
       "      <td>677.071454</td>\n",
       "      <td>16.328155</td>\n",
       "      <td>14.722359</td>\n",
       "      <td>3.958349</td>\n",
       "      <td>12.391801</td>\n",
       "      <td>5221.768440</td>\n",
       "      <td>17.17771</td>\n",
       "    </tr>\n",
       "    <tr>\n",
       "      <th>min</th>\n",
       "      <td>NaN</td>\n",
       "      <td>81.000000</td>\n",
       "      <td>72.000000</td>\n",
       "      <td>35.000000</td>\n",
       "      <td>1.000000</td>\n",
       "      <td>9.000000</td>\n",
       "      <td>139.000000</td>\n",
       "      <td>1.000000</td>\n",
       "      <td>2340.000000</td>\n",
       "      <td>1780.000000</td>\n",
       "      <td>96.000000</td>\n",
       "      <td>250.000000</td>\n",
       "      <td>8.000000</td>\n",
       "      <td>24.000000</td>\n",
       "      <td>2.500000</td>\n",
       "      <td>0.000000</td>\n",
       "      <td>3186.000000</td>\n",
       "      <td>10.00000</td>\n",
       "    </tr>\n",
       "    <tr>\n",
       "      <th>25%</th>\n",
       "      <td>NaN</td>\n",
       "      <td>776.000000</td>\n",
       "      <td>604.000000</td>\n",
       "      <td>242.000000</td>\n",
       "      <td>15.000000</td>\n",
       "      <td>41.000000</td>\n",
       "      <td>992.000000</td>\n",
       "      <td>95.000000</td>\n",
       "      <td>7320.000000</td>\n",
       "      <td>3597.000000</td>\n",
       "      <td>470.000000</td>\n",
       "      <td>850.000000</td>\n",
       "      <td>62.000000</td>\n",
       "      <td>71.000000</td>\n",
       "      <td>11.500000</td>\n",
       "      <td>13.000000</td>\n",
       "      <td>6751.000000</td>\n",
       "      <td>53.00000</td>\n",
       "    </tr>\n",
       "    <tr>\n",
       "      <th>50%</th>\n",
       "      <td>NaN</td>\n",
       "      <td>1558.000000</td>\n",
       "      <td>1110.000000</td>\n",
       "      <td>434.000000</td>\n",
       "      <td>23.000000</td>\n",
       "      <td>54.000000</td>\n",
       "      <td>1707.000000</td>\n",
       "      <td>353.000000</td>\n",
       "      <td>9990.000000</td>\n",
       "      <td>4200.000000</td>\n",
       "      <td>500.000000</td>\n",
       "      <td>1200.000000</td>\n",
       "      <td>75.000000</td>\n",
       "      <td>82.000000</td>\n",
       "      <td>13.600000</td>\n",
       "      <td>21.000000</td>\n",
       "      <td>8377.000000</td>\n",
       "      <td>65.00000</td>\n",
       "    </tr>\n",
       "    <tr>\n",
       "      <th>75%</th>\n",
       "      <td>NaN</td>\n",
       "      <td>3624.000000</td>\n",
       "      <td>2424.000000</td>\n",
       "      <td>902.000000</td>\n",
       "      <td>35.000000</td>\n",
       "      <td>69.000000</td>\n",
       "      <td>4005.000000</td>\n",
       "      <td>967.000000</td>\n",
       "      <td>12925.000000</td>\n",
       "      <td>5050.000000</td>\n",
       "      <td>600.000000</td>\n",
       "      <td>1700.000000</td>\n",
       "      <td>85.000000</td>\n",
       "      <td>92.000000</td>\n",
       "      <td>16.500000</td>\n",
       "      <td>31.000000</td>\n",
       "      <td>10830.000000</td>\n",
       "      <td>78.00000</td>\n",
       "    </tr>\n",
       "    <tr>\n",
       "      <th>max</th>\n",
       "      <td>NaN</td>\n",
       "      <td>48094.000000</td>\n",
       "      <td>26330.000000</td>\n",
       "      <td>6392.000000</td>\n",
       "      <td>96.000000</td>\n",
       "      <td>100.000000</td>\n",
       "      <td>31643.000000</td>\n",
       "      <td>21836.000000</td>\n",
       "      <td>21700.000000</td>\n",
       "      <td>8124.000000</td>\n",
       "      <td>2340.000000</td>\n",
       "      <td>6800.000000</td>\n",
       "      <td>103.000000</td>\n",
       "      <td>100.000000</td>\n",
       "      <td>39.800000</td>\n",
       "      <td>64.000000</td>\n",
       "      <td>56233.000000</td>\n",
       "      <td>118.00000</td>\n",
       "    </tr>\n",
       "  </tbody>\n",
       "</table>\n",
       "</div>"
      ],
      "text/plain": [
       "                   Names          Apps        Accept       Enroll   Top10perc  \\\n",
       "count                777    777.000000    777.000000   777.000000  777.000000   \n",
       "unique               777           NaN           NaN          NaN         NaN   \n",
       "top     Monmouth College           NaN           NaN          NaN         NaN   \n",
       "freq                   1           NaN           NaN          NaN         NaN   \n",
       "mean                 NaN   3001.638353   2018.804376   779.972973   27.558559   \n",
       "std                  NaN   3870.201484   2451.113971   929.176190   17.640364   \n",
       "min                  NaN     81.000000     72.000000    35.000000    1.000000   \n",
       "25%                  NaN    776.000000    604.000000   242.000000   15.000000   \n",
       "50%                  NaN   1558.000000   1110.000000   434.000000   23.000000   \n",
       "75%                  NaN   3624.000000   2424.000000   902.000000   35.000000   \n",
       "max                  NaN  48094.000000  26330.000000  6392.000000   96.000000   \n",
       "\n",
       "         Top25perc   F.Undergrad   P.Undergrad      Outstate   Room.Board  \\\n",
       "count   777.000000    777.000000    777.000000    777.000000   777.000000   \n",
       "unique         NaN           NaN           NaN           NaN          NaN   \n",
       "top            NaN           NaN           NaN           NaN          NaN   \n",
       "freq           NaN           NaN           NaN           NaN          NaN   \n",
       "mean     55.796654   3699.907336    855.298584  10440.669241  4357.526384   \n",
       "std      19.804778   4850.420531   1522.431887   4023.016484  1096.696416   \n",
       "min       9.000000    139.000000      1.000000   2340.000000  1780.000000   \n",
       "25%      41.000000    992.000000     95.000000   7320.000000  3597.000000   \n",
       "50%      54.000000   1707.000000    353.000000   9990.000000  4200.000000   \n",
       "75%      69.000000   4005.000000    967.000000  12925.000000  5050.000000   \n",
       "max     100.000000  31643.000000  21836.000000  21700.000000  8124.000000   \n",
       "\n",
       "              Books     Personal         PhD    Terminal   S.F.Ratio  \\\n",
       "count    777.000000   777.000000  777.000000  777.000000  777.000000   \n",
       "unique          NaN          NaN         NaN         NaN         NaN   \n",
       "top             NaN          NaN         NaN         NaN         NaN   \n",
       "freq            NaN          NaN         NaN         NaN         NaN   \n",
       "mean     549.380952  1340.642214   72.660232   79.702703   14.089704   \n",
       "std      165.105360   677.071454   16.328155   14.722359    3.958349   \n",
       "min       96.000000   250.000000    8.000000   24.000000    2.500000   \n",
       "25%      470.000000   850.000000   62.000000   71.000000   11.500000   \n",
       "50%      500.000000  1200.000000   75.000000   82.000000   13.600000   \n",
       "75%      600.000000  1700.000000   85.000000   92.000000   16.500000   \n",
       "max     2340.000000  6800.000000  103.000000  100.000000   39.800000   \n",
       "\n",
       "        perc.alumni        Expend  Grad.Rate  \n",
       "count    777.000000    777.000000  777.00000  \n",
       "unique          NaN           NaN        NaN  \n",
       "top             NaN           NaN        NaN  \n",
       "freq            NaN           NaN        NaN  \n",
       "mean      22.743887   9660.171171   65.46332  \n",
       "std       12.391801   5221.768440   17.17771  \n",
       "min        0.000000   3186.000000   10.00000  \n",
       "25%       13.000000   6751.000000   53.00000  \n",
       "50%       21.000000   8377.000000   65.00000  \n",
       "75%       31.000000  10830.000000   78.00000  \n",
       "max       64.000000  56233.000000  118.00000  "
      ]
     },
     "execution_count": 7,
     "metadata": {},
     "output_type": "execute_result"
    }
   ],
   "source": [
    "df.describe(include='all')"
   ]
  },
  {
   "cell_type": "code",
   "execution_count": 8,
   "metadata": {},
   "outputs": [
    {
     "name": "stdout",
     "output_type": "stream",
     "text": [
      "<class 'pandas.core.frame.DataFrame'>\n",
      "RangeIndex: 777 entries, 0 to 776\n",
      "Data columns (total 18 columns):\n",
      " #   Column       Non-Null Count  Dtype  \n",
      "---  ------       --------------  -----  \n",
      " 0   Names        777 non-null    object \n",
      " 1   Apps         777 non-null    int64  \n",
      " 2   Accept       777 non-null    int64  \n",
      " 3   Enroll       777 non-null    int64  \n",
      " 4   Top10perc    777 non-null    int64  \n",
      " 5   Top25perc    777 non-null    int64  \n",
      " 6   F.Undergrad  777 non-null    int64  \n",
      " 7   P.Undergrad  777 non-null    int64  \n",
      " 8   Outstate     777 non-null    int64  \n",
      " 9   Room.Board   777 non-null    int64  \n",
      " 10  Books        777 non-null    int64  \n",
      " 11  Personal     777 non-null    int64  \n",
      " 12  PhD          777 non-null    int64  \n",
      " 13  Terminal     777 non-null    int64  \n",
      " 14  S.F.Ratio    777 non-null    float64\n",
      " 15  perc.alumni  777 non-null    int64  \n",
      " 16  Expend       777 non-null    int64  \n",
      " 17  Grad.Rate    777 non-null    int64  \n",
      "dtypes: float64(1), int64(16), object(1)\n",
      "memory usage: 109.4+ KB\n"
     ]
    }
   ],
   "source": [
    "df.info()"
   ]
  },
  {
   "cell_type": "code",
   "execution_count": 9,
   "metadata": {},
   "outputs": [
    {
     "name": "stdout",
     "output_type": "stream",
     "text": [
      "Names          777\n",
      "Apps           711\n",
      "Accept         693\n",
      "Enroll         581\n",
      "Top10perc       82\n",
      "Top25perc       89\n",
      "F.Undergrad    714\n",
      "P.Undergrad    566\n",
      "Outstate       640\n",
      "Room.Board     553\n",
      "Books          122\n",
      "Personal       294\n",
      "PhD             78\n",
      "Terminal        65\n",
      "S.F.Ratio      173\n",
      "perc.alumni     61\n",
      "Expend         744\n",
      "Grad.Rate       81\n",
      "dtype: int64\n"
     ]
    }
   ],
   "source": [
    "print(df.nunique())"
   ]
  },
  {
   "cell_type": "code",
   "execution_count": 12,
   "metadata": {},
   "outputs": [
    {
     "name": "stdout",
     "output_type": "stream",
     "text": [
      "Number of duplicate rows = 0\n"
     ]
    },
    {
     "data": {
      "text/html": [
       "<div>\n",
       "<style scoped>\n",
       "    .dataframe tbody tr th:only-of-type {\n",
       "        vertical-align: middle;\n",
       "    }\n",
       "\n",
       "    .dataframe tbody tr th {\n",
       "        vertical-align: top;\n",
       "    }\n",
       "\n",
       "    .dataframe thead th {\n",
       "        text-align: right;\n",
       "    }\n",
       "</style>\n",
       "<table border=\"1\" class=\"dataframe\">\n",
       "  <thead>\n",
       "    <tr style=\"text-align: right;\">\n",
       "      <th></th>\n",
       "      <th>Names</th>\n",
       "      <th>Apps</th>\n",
       "      <th>Accept</th>\n",
       "      <th>Enroll</th>\n",
       "      <th>Top10perc</th>\n",
       "      <th>Top25perc</th>\n",
       "      <th>F.Undergrad</th>\n",
       "      <th>P.Undergrad</th>\n",
       "      <th>Outstate</th>\n",
       "      <th>Room.Board</th>\n",
       "      <th>Books</th>\n",
       "      <th>Personal</th>\n",
       "      <th>PhD</th>\n",
       "      <th>Terminal</th>\n",
       "      <th>S.F.Ratio</th>\n",
       "      <th>perc.alumni</th>\n",
       "      <th>Expend</th>\n",
       "      <th>Grad.Rate</th>\n",
       "    </tr>\n",
       "  </thead>\n",
       "  <tbody>\n",
       "  </tbody>\n",
       "</table>\n",
       "</div>"
      ],
      "text/plain": [
       "Empty DataFrame\n",
       "Columns: [Names, Apps, Accept, Enroll, Top10perc, Top25perc, F.Undergrad, P.Undergrad, Outstate, Room.Board, Books, Personal, PhD, Terminal, S.F.Ratio, perc.alumni, Expend, Grad.Rate]\n",
       "Index: []"
      ]
     },
     "execution_count": 12,
     "metadata": {},
     "output_type": "execute_result"
    }
   ],
   "source": [
    "# Are there any duplicates?\n",
    "dups = df.duplicated()\n",
    "print('Number of duplicate rows = %d' % (dups.sum()))\n",
    "df[dups]"
   ]
  },
  {
   "cell_type": "code",
   "execution_count": null,
   "metadata": {},
   "outputs": [],
   "source": []
  },
  {
   "cell_type": "code",
   "execution_count": 13,
   "metadata": {},
   "outputs": [],
   "source": [
    "def univariateAnalysis_numeric(column,nbins):\n",
    "    print(\"Description of \" + column)\n",
    "    print(\"----------------------------------------------------------------------------\")\n",
    "    print(df[column].describe(),end=' ')\n",
    "    \n",
    "    \n",
    "    plt.figure()\n",
    "    print(\"Distribution of \" + column)\n",
    "    print(\"----------------------------------------------------------------------------\")\n",
    "    sns.distplot(df[column], kde=False, color='g');\n",
    "    plt.show()\n",
    "    \n",
    "    plt.figure()\n",
    "    print(\"BoxPlot of \" + column)\n",
    "    print(\"----------------------------------------------------------------------------\")\n",
    "    ax = sns.boxplot(x=df[column])\n",
    "    plt.show()"
   ]
  },
  {
   "cell_type": "code",
   "execution_count": 14,
   "metadata": {},
   "outputs": [
    {
     "data": {
      "text/plain": [
       "17"
      ]
     },
     "execution_count": 14,
     "metadata": {},
     "output_type": "execute_result"
    }
   ],
   "source": [
    "df_num = df.select_dtypes(include = ['float64', 'int64'])\n",
    "lstnumericcolumns = list(df_num.columns.values)\n",
    "len(lstnumericcolumns)"
   ]
  },
  {
   "cell_type": "code",
   "execution_count": 108,
   "metadata": {},
   "outputs": [
    {
     "name": "stdout",
     "output_type": "stream",
     "text": [
      "Description of Apps\n",
      "----------------------------------------------------------------------------\n",
      "count      777.000000\n",
      "mean      3001.638353\n",
      "std       3870.201484\n",
      "min         81.000000\n",
      "25%        776.000000\n",
      "50%       1558.000000\n",
      "75%       3624.000000\n",
      "max      48094.000000\n",
      "Name: Apps, dtype: float64 Distribution of Apps\n",
      "----------------------------------------------------------------------------\n"
     ]
    },
    {
     "data": {
      "image/png": "[encoded data removed]",
      "text/plain": [
       "<Figure size 432x288 with 1 Axes>"
      ]
     },
     "metadata": {
      "needs_background": "light"
     },
     "output_type": "display_data"
    },
    {
     "name": "stdout",
     "output_type": "stream",
     "text": [
      "BoxPlot of Apps\n",
      "----------------------------------------------------------------------------\n"
     ]
    },
    {
     "data": {
      "image/png": "[encoded data removed]",
      "text/plain": [
       "<Figure size 432x288 with 1 Axes>"
      ]
     },
     "metadata": {
      "needs_background": "light"
     },
     "output_type": "display_data"
    },
    {
     "name": "stdout",
     "output_type": "stream",
     "text": [
      "Description of Accept\n",
      "----------------------------------------------------------------------------\n",
      "count      777.000000\n",
      "mean      2018.804376\n",
      "std       2451.113971\n",
      "min         72.000000\n",
      "25%        604.000000\n",
      "50%       1110.000000\n",
      "75%       2424.000000\n",
      "max      26330.000000\n",
      "Name: Accept, dtype: float64 Distribution of Accept\n",
      "----------------------------------------------------------------------------\n"
     ]
    },
    {
     "data": {
      "image/png": "[encoded data removed]",
      "text/plain": [
       "<Figure size 432x288 with 1 Axes>"
      ]
     },
     "metadata": {
      "needs_background": "light"
     },
     "output_type": "display_data"
    },
    {
     "name": "stdout",
     "output_type": "stream",
     "text": [
      "BoxPlot of Accept\n",
      "----------------------------------------------------------------------------\n"
     ]
    },
    {
     "data": {
      "image/png": "[encoded data removed]",
      "text/plain": [
       "<Figure size 432x288 with 1 Axes>"
      ]
     },
     "metadata": {
      "needs_background": "light"
     },
     "output_type": "display_data"
    },
    {
     "name": "stdout",
     "output_type": "stream",
     "text": [
      "Description of Enroll\n",
      "----------------------------------------------------------------------------\n",
      "count     777.000000\n",
      "mean      779.972973\n",
      "std       929.176190\n",
      "min        35.000000\n",
      "25%       242.000000\n",
      "50%       434.000000\n",
      "75%       902.000000\n",
      "max      6392.000000\n",
      "Name: Enroll, dtype: float64 Distribution of Enroll\n",
      "----------------------------------------------------------------------------\n"
     ]
    },
    {
     "data": {
      "image/png": "[encoded data removed]",
      "text/plain": [
       "<Figure size 432x288 with 1 Axes>"
      ]
     },
     "metadata": {
      "needs_background": "light"
     },
     "output_type": "display_data"
    },
    {
     "name": "stdout",
     "output_type": "stream",
     "text": [
      "BoxPlot of Enroll\n",
      "----------------------------------------------------------------------------\n"
     ]
    },
    {
     "data": {
      "image/png": "[encoded data removed]",
      "text/plain": [
       "<Figure size 432x288 with 1 Axes>"
      ]
     },
     "metadata": {
      "needs_background": "light"
     },
     "output_type": "display_data"
    },
    {
     "name": "stdout",
     "output_type": "stream",
     "text": [
      "Description of Top10perc\n",
      "----------------------------------------------------------------------------\n",
      "count    777.000000\n",
      "mean      27.558559\n",
      "std       17.640364\n",
      "min        1.000000\n",
      "25%       15.000000\n",
      "50%       23.000000\n",
      "75%       35.000000\n",
      "max       96.000000\n",
      "Name: Top10perc, dtype: float64 Distribution of Top10perc\n",
      "----------------------------------------------------------------------------\n"
     ]
    },
    {
     "data": {
      "image/png": "[encoded data removed]",
      "text/plain": [
       "<Figure size 432x288 with 1 Axes>"
      ]
     },
     "metadata": {
      "needs_background": "light"
     },
     "output_type": "display_data"
    },
    {
     "name": "stdout",
     "output_type": "stream",
     "text": [
      "BoxPlot of Top10perc\n",
      "----------------------------------------------------------------------------\n"
     ]
    },
    {
     "data": {
      "image/png": "[encoded data removed]",
      "text/plain": [
       "<Figure size 432x288 with 1 Axes>"
      ]
     },
     "metadata": {
      "needs_background": "light"
     },
     "output_type": "display_data"
    },
    {
     "name": "stdout",
     "output_type": "stream",
     "text": [
      "Description of Top25perc\n",
      "----------------------------------------------------------------------------\n",
      "count    777.000000\n",
      "mean      55.796654\n",
      "std       19.804778\n",
      "min        9.000000\n",
      "25%       41.000000\n",
      "50%       54.000000\n",
      "75%       69.000000\n",
      "max      100.000000\n",
      "Name: Top25perc, dtype: float64 Distribution of Top25perc\n",
      "----------------------------------------------------------------------------\n"
     ]
    },
    {
     "data": {
      "image/png": "[encoded data removed]",
      "text/plain": [
       "<Figure size 432x288 with 1 Axes>"
      ]
     },
     "metadata": {
      "needs_background": "light"
     },
     "output_type": "display_data"
    },
    {
     "name": "stdout",
     "output_type": "stream",
     "text": [
      "BoxPlot of Top25perc\n",
      "----------------------------------------------------------------------------\n"
     ]
    },
    {
     "data": {
      "image/png": "[encoded data removed]",
      "text/plain": [
       "<Figure size 432x288 with 1 Axes>"
      ]
     },
     "metadata": {
      "needs_background": "light"
     },
     "output_type": "display_data"
    },
    {
     "name": "stdout",
     "output_type": "stream",
     "text": [
      "Description of F.Undergrad\n",
      "----------------------------------------------------------------------------\n",
      "count      777.000000\n",
      "mean      3699.907336\n",
      "std       4850.420531\n",
      "min        139.000000\n",
      "25%        992.000000\n",
      "50%       1707.000000\n",
      "75%       4005.000000\n",
      "max      31643.000000\n",
      "Name: F.Undergrad, dtype: float64 Distribution of F.Undergrad\n",
      "----------------------------------------------------------------------------\n"
     ]
    },
    {
     "data": {
      "image/png": "[encoded data removed]",
      "text/plain": [
       "<Figure size 432x288 with 1 Axes>"
      ]
     },
     "metadata": {
      "needs_background": "light"
     },
     "output_type": "display_data"
    },
    {
     "name": "stdout",
     "output_type": "stream",
     "text": [
      "BoxPlot of F.Undergrad\n",
      "----------------------------------------------------------------------------\n"
     ]
    },
    {
     "data": {
      "image/png": "[encoded data removed]",
      "text/plain": [
       "<Figure size 432x288 with 1 Axes>"
      ]
     },
     "metadata": {
      "needs_background": "light"
     },
     "output_type": "display_data"
    },
    {
     "name": "stdout",
     "output_type": "stream",
     "text": [
      "Description of P.Undergrad\n",
      "----------------------------------------------------------------------------\n",
      "count      777.000000\n",
      "mean       855.298584\n",
      "std       1522.431887\n",
      "min          1.000000\n",
      "25%         95.000000\n",
      "50%        353.000000\n",
      "75%        967.000000\n",
      "max      21836.000000\n",
      "Name: P.Undergrad, dtype: float64 Distribution of P.Undergrad\n",
      "----------------------------------------------------------------------------\n"
     ]
    },
    {
     "data": {
      "image/png": "[encoded data removed]",
      "text/plain": [
       "<Figure size 432x288 with 1 Axes>"
      ]
     },
     "metadata": {
      "needs_background": "light"
     },
     "output_type": "display_data"
    },
    {
     "name": "stdout",
     "output_type": "stream",
     "text": [
      "BoxPlot of P.Undergrad\n",
      "----------------------------------------------------------------------------\n"
     ]
    },
    {
     "data": {
      "image/png": "[encoded data removed]",
      "text/plain": [
       "<Figure size 432x288 with 1 Axes>"
      ]
     },
     "metadata": {
      "needs_background": "light"
     },
     "output_type": "display_data"
    },
    {
     "name": "stdout",
     "output_type": "stream",
     "text": [
      "Description of Outstate\n",
      "----------------------------------------------------------------------------\n",
      "count      777.000000\n",
      "mean     10440.669241\n",
      "std       4023.016484\n",
      "min       2340.000000\n",
      "25%       7320.000000\n",
      "50%       9990.000000\n",
      "75%      12925.000000\n",
      "max      21700.000000\n",
      "Name: Outstate, dtype: float64 Distribution of Outstate\n",
      "----------------------------------------------------------------------------\n"
     ]
    },
    {
     "data": {
      "image/png": "[encoded data removed]",
      "text/plain": [
       "<Figure size 432x288 with 1 Axes>"
      ]
     },
     "metadata": {
      "needs_background": "light"
     },
     "output_type": "display_data"
    },
    {
     "name": "stdout",
     "output_type": "stream",
     "text": [
      "BoxPlot of Outstate\n",
      "----------------------------------------------------------------------------\n"
     ]
    },
    {
     "data": {
      "image/png": "[encoded data removed]",
      "text/plain": [
       "<Figure size 432x288 with 1 Axes>"
      ]
     },
     "metadata": {
      "needs_background": "light"
     },
     "output_type": "display_data"
    },
    {
     "name": "stdout",
     "output_type": "stream",
     "text": [
      "Description of Room.Board\n",
      "----------------------------------------------------------------------------\n",
      "count     777.000000\n",
      "mean     4357.526384\n",
      "std      1096.696416\n",
      "min      1780.000000\n",
      "25%      3597.000000\n",
      "50%      4200.000000\n",
      "75%      5050.000000\n",
      "max      8124.000000\n",
      "Name: Room.Board, dtype: float64 Distribution of Room.Board\n",
      "----------------------------------------------------------------------------\n"
     ]
    },
    {
     "data": {
      "image/png": "[encoded data removed]",
      "text/plain": [
       "<Figure size 432x288 with 1 Axes>"
      ]
     },
     "metadata": {
      "needs_background": "light"
     },
     "output_type": "display_data"
    },
    {
     "name": "stdout",
     "output_type": "stream",
     "text": [
      "BoxPlot of Room.Board\n",
      "----------------------------------------------------------------------------\n"
     ]
    },
    {
     "data": {
      "image/png": "[encoded data removed]",
      "text/plain": [
       "<Figure size 432x288 with 1 Axes>"
      ]
     },
     "metadata": {
      "needs_background": "light"
     },
     "output_type": "display_data"
    },
    {
     "name": "stdout",
     "output_type": "stream",
     "text": [
      "Description of Books\n",
      "----------------------------------------------------------------------------\n",
      "count     777.000000\n",
      "mean      549.380952\n",
      "std       165.105360\n",
      "min        96.000000\n",
      "25%       470.000000\n",
      "50%       500.000000\n",
      "75%       600.000000\n",
      "max      2340.000000\n",
      "Name: Books, dtype: float64 Distribution of Books\n",
      "----------------------------------------------------------------------------\n"
     ]
    },
    {
     "data": {
      "image/png": "[encoded data removed]",
      "text/plain": [
       "<Figure size 432x288 with 1 Axes>"
      ]
     },
     "metadata": {
      "needs_background": "light"
     },
     "output_type": "display_data"
    },
    {
     "name": "stdout",
     "output_type": "stream",
     "text": [
      "BoxPlot of Books\n",
      "----------------------------------------------------------------------------\n"
     ]
    },
    {
     "data": {
      "image/png": "[encoded data removed]",
      "text/plain": [
       "<Figure size 432x288 with 1 Axes>"
      ]
     },
     "metadata": {
      "needs_background": "light"
     },
     "output_type": "display_data"
    },
    {
     "name": "stdout",
     "output_type": "stream",
     "text": [
      "Description of Personal\n",
      "----------------------------------------------------------------------------\n",
      "count     777.000000\n",
      "mean     1340.642214\n",
      "std       677.071454\n",
      "min       250.000000\n",
      "25%       850.000000\n",
      "50%      1200.000000\n",
      "75%      1700.000000\n",
      "max      6800.000000\n",
      "Name: Personal, dtype: float64 Distribution of Personal\n",
      "----------------------------------------------------------------------------\n"
     ]
    },
    {
     "data": {
      "image/png": "[encoded data removed]",
      "text/plain": [
       "<Figure size 432x288 with 1 Axes>"
      ]
     },
     "metadata": {
      "needs_background": "light"
     },
     "output_type": "display_data"
    },
    {
     "name": "stdout",
     "output_type": "stream",
     "text": [
      "BoxPlot of Personal\n",
      "----------------------------------------------------------------------------\n"
     ]
    },
    {
     "data": {
      "image/png": "[encoded data removed]",
      "text/plain": [
       "<Figure size 432x288 with 1 Axes>"
      ]
     },
     "metadata": {
      "needs_background": "light"
     },
     "output_type": "display_data"
    },
    {
     "name": "stdout",
     "output_type": "stream",
     "text": [
      "Description of PhD\n",
      "----------------------------------------------------------------------------\n",
      "count    777.000000\n",
      "mean      72.660232\n",
      "std       16.328155\n",
      "min        8.000000\n",
      "25%       62.000000\n",
      "50%       75.000000\n",
      "75%       85.000000\n",
      "max      103.000000\n",
      "Name: PhD, dtype: float64 Distribution of PhD\n",
      "----------------------------------------------------------------------------\n"
     ]
    },
    {
     "data": {
      "image/png": "[encoded data removed]",
      "text/plain": [
       "<Figure size 432x288 with 1 Axes>"
      ]
     },
     "metadata": {
      "needs_background": "light"
     },
     "output_type": "display_data"
    },
    {
     "name": "stdout",
     "output_type": "stream",
     "text": [
      "BoxPlot of PhD\n",
      "----------------------------------------------------------------------------\n"
     ]
    },
    {
     "data": {
      "image/png": "[encoded data removed]",
      "text/plain": [
       "<Figure size 432x288 with 1 Axes>"
      ]
     },
     "metadata": {
      "needs_background": "light"
     },
     "output_type": "display_data"
    },
    {
     "name": "stdout",
     "output_type": "stream",
     "text": [
      "Description of Terminal\n",
      "----------------------------------------------------------------------------\n",
      "count    777.000000\n",
      "mean      79.702703\n",
      "std       14.722359\n",
      "min       24.000000\n",
      "25%       71.000000\n",
      "50%       82.000000\n",
      "75%       92.000000\n",
      "max      100.000000\n",
      "Name: Terminal, dtype: float64 Distribution of Terminal\n",
      "----------------------------------------------------------------------------\n"
     ]
    },
    {
     "data": {
      "image/png": "[encoded data removed]",
      "text/plain": [
       "<Figure size 432x288 with 1 Axes>"
      ]
     },
     "metadata": {
      "needs_background": "light"
     },
     "output_type": "display_data"
    },
    {
     "name": "stdout",
     "output_type": "stream",
     "text": [
      "BoxPlot of Terminal\n",
      "----------------------------------------------------------------------------\n"
     ]
    },
    {
     "data": {
      "image/png": "[encoded data removed]",
      "text/plain": [
       "<Figure size 432x288 with 1 Axes>"
      ]
     },
     "metadata": {
      "needs_background": "light"
     },
     "output_type": "display_data"
    },
    {
     "name": "stdout",
     "output_type": "stream",
     "text": [
      "Description of S.F.Ratio\n",
      "----------------------------------------------------------------------------\n",
      "count    777.000000\n",
      "mean      14.089704\n",
      "std        3.958349\n",
      "min        2.500000\n",
      "25%       11.500000\n",
      "50%       13.600000\n",
      "75%       16.500000\n",
      "max       39.800000\n",
      "Name: S.F.Ratio, dtype: float64 Distribution of S.F.Ratio\n",
      "----------------------------------------------------------------------------\n"
     ]
    },
    {
     "data": {
      "image/png": "[encoded data removed]",
      "text/plain": [
       "<Figure size 432x288 with 1 Axes>"
      ]
     },
     "metadata": {
      "needs_background": "light"
     },
     "output_type": "display_data"
    },
    {
     "name": "stdout",
     "output_type": "stream",
     "text": [
      "BoxPlot of S.F.Ratio\n",
      "----------------------------------------------------------------------------\n"
     ]
    },
    {
     "data": {
      "image/png": "[encoded data removed]",
      "text/plain": [
       "<Figure size 432x288 with 1 Axes>"
      ]
     },
     "metadata": {
      "needs_background": "light"
     },
     "output_type": "display_data"
    },
    {
     "name": "stdout",
     "output_type": "stream",
     "text": [
      "Description of perc.alumni\n",
      "----------------------------------------------------------------------------\n",
      "count    777.000000\n",
      "mean      22.743887\n",
      "std       12.391801\n",
      "min        0.000000\n",
      "25%       13.000000\n",
      "50%       21.000000\n",
      "75%       31.000000\n",
      "max       64.000000\n",
      "Name: perc.alumni, dtype: float64 Distribution of perc.alumni\n",
      "----------------------------------------------------------------------------\n"
     ]
    },
    {
     "data": {
      "image/png": "[encoded data removed]",
      "text/plain": [
       "<Figure size 432x288 with 1 Axes>"
      ]
     },
     "metadata": {
      "needs_background": "light"
     },
     "output_type": "display_data"
    },
    {
     "name": "stdout",
     "output_type": "stream",
     "text": [
      "BoxPlot of perc.alumni\n",
      "----------------------------------------------------------------------------\n"
     ]
    },
    {
     "data": {
      "image/png": "[encoded data removed]",
      "text/plain": [
       "<Figure size 432x288 with 1 Axes>"
      ]
     },
     "metadata": {
      "needs_background": "light"
     },
     "output_type": "display_data"
    },
    {
     "name": "stdout",
     "output_type": "stream",
     "text": [
      "Description of Expend\n",
      "----------------------------------------------------------------------------\n",
      "count      777.000000\n",
      "mean      9660.171171\n",
      "std       5221.768440\n",
      "min       3186.000000\n",
      "25%       6751.000000\n",
      "50%       8377.000000\n",
      "75%      10830.000000\n",
      "max      56233.000000\n",
      "Name: Expend, dtype: float64 Distribution of Expend\n",
      "----------------------------------------------------------------------------\n"
     ]
    },
    {
     "data": {
      "image/png": "[encoded data removed]",
      "text/plain": [
       "<Figure size 432x288 with 1 Axes>"
      ]
     },
     "metadata": {
      "needs_background": "light"
     },
     "output_type": "display_data"
    },
    {
     "name": "stdout",
     "output_type": "stream",
     "text": [
      "BoxPlot of Expend\n",
      "----------------------------------------------------------------------------\n"
     ]
    },
    {
     "data": {
      "image/png": "[encoded data removed]",
      "text/plain": [
       "<Figure size 432x288 with 1 Axes>"
      ]
     },
     "metadata": {
      "needs_background": "light"
     },
     "output_type": "display_data"
    },
    {
     "name": "stdout",
     "output_type": "stream",
     "text": [
      "Description of Grad.Rate\n",
      "----------------------------------------------------------------------------\n",
      "count    777.00000\n",
      "mean      65.46332\n",
      "std       17.17771\n",
      "min       10.00000\n",
      "25%       53.00000\n",
      "50%       65.00000\n",
      "75%       78.00000\n",
      "max      118.00000\n",
      "Name: Grad.Rate, dtype: float64 Distribution of Grad.Rate\n",
      "----------------------------------------------------------------------------\n"
     ]
    },
    {
     "data": {
      "image/png": "[encoded data removed]",
      "text/plain": [
       "<Figure size 432x288 with 1 Axes>"
      ]
     },
     "metadata": {
      "needs_background": "light"
     },
     "output_type": "display_data"
    },
    {
     "name": "stdout",
     "output_type": "stream",
     "text": [
      "BoxPlot of Grad.Rate\n",
      "----------------------------------------------------------------------------\n"
     ]
    },
    {
     "data": {
      "image/png": "[encoded data removed]",
      "text/plain": [
       "<Figure size 432x288 with 1 Axes>"
      ]
     },
     "metadata": {
      "needs_background": "light"
     },
     "output_type": "display_data"
    }
   ],
   "source": [
    "for x in lstnumericcolumns:\n",
    "    univariateAnalysis_numeric(x,10)"
   ]
  },
  {
   "cell_type": "code",
   "execution_count": 87,
   "metadata": {},
   "outputs": [],
   "source": [
    "corr = df_num.corr(method='pearson')"
   ]
  },
  {
   "cell_type": "code",
   "execution_count": 88,
   "metadata": {},
   "outputs": [
    {
     "data": {
      "image/png": "[encoded data removed]",
      "text/plain": [
       "<Figure size 1800x1080 with 2 Axes>"
      ]
     },
     "metadata": {
      "needs_background": "light"
     },
     "output_type": "display_data"
    }
   ],
   "source": [
    "mask = np.triu(np.ones_like(corr, dtype=np.bool)) \n",
    "fig = plt.subplots(figsize=(25, 15))\n",
    "sns.heatmap(df_num.corr(), annot=True,fmt='.2f',mask=mask)\n",
    "plt.show()"
   ]
  },
  {
   "cell_type": "code",
   "execution_count": 102,
   "metadata": {},
   "outputs": [
    {
     "data": {
      "image/png": "[encoded data removed]",
      "text/plain": [
       "<Figure size 1440x720 with 1 Axes>"
      ]
     },
     "metadata": {
      "needs_background": "light"
     },
     "output_type": "display_data"
    }
   ],
   "source": [
    "df_num.boxplot(figsize=(20,10))\n",
    "plt.xticks(rotation=90)\n",
    "plt.show()"
   ]
  },
  {
   "cell_type": "code",
   "execution_count": null,
   "metadata": {},
   "outputs": [],
   "source": []
  },
  {
   "cell_type": "code",
   "execution_count": null,
   "metadata": {},
   "outputs": [],
   "source": []
  },
  {
   "cell_type": "code",
   "execution_count": 103,
   "metadata": {},
   "outputs": [
    {
     "data": {
      "text/html": [
       "<div>\n",
       "<style scoped>\n",
       "    .dataframe tbody tr th:only-of-type {\n",
       "        vertical-align: middle;\n",
       "    }\n",
       "\n",
       "    .dataframe tbody tr th {\n",
       "        vertical-align: top;\n",
       "    }\n",
       "\n",
       "    .dataframe thead th {\n",
       "        text-align: right;\n",
       "    }\n",
       "</style>\n",
       "<table border=\"1\" class=\"dataframe\">\n",
       "  <thead>\n",
       "    <tr style=\"text-align: right;\">\n",
       "      <th></th>\n",
       "      <th>Apps</th>\n",
       "      <th>Accept</th>\n",
       "      <th>Enroll</th>\n",
       "      <th>Top10perc</th>\n",
       "      <th>Top25perc</th>\n",
       "      <th>F.Undergrad</th>\n",
       "      <th>P.Undergrad</th>\n",
       "      <th>Outstate</th>\n",
       "      <th>Room.Board</th>\n",
       "      <th>Books</th>\n",
       "      <th>Personal</th>\n",
       "      <th>PhD</th>\n",
       "      <th>Terminal</th>\n",
       "      <th>S.F.Ratio</th>\n",
       "      <th>perc.alumni</th>\n",
       "      <th>Expend</th>\n",
       "      <th>Grad.Rate</th>\n",
       "    </tr>\n",
       "  </thead>\n",
       "  <tbody>\n",
       "    <tr>\n",
       "      <th>0</th>\n",
       "      <td>-0.346882</td>\n",
       "      <td>-0.321205</td>\n",
       "      <td>-0.063509</td>\n",
       "      <td>-0.258583</td>\n",
       "      <td>-0.191827</td>\n",
       "      <td>-0.168116</td>\n",
       "      <td>-0.209207</td>\n",
       "      <td>-0.746356</td>\n",
       "      <td>-0.964905</td>\n",
       "      <td>-0.602312</td>\n",
       "      <td>1.270045</td>\n",
       "      <td>-0.163028</td>\n",
       "      <td>-0.115729</td>\n",
       "      <td>1.013776</td>\n",
       "      <td>-0.867574</td>\n",
       "      <td>-0.501910</td>\n",
       "      <td>-0.318252</td>\n",
       "    </tr>\n",
       "    <tr>\n",
       "      <th>1</th>\n",
       "      <td>-0.210884</td>\n",
       "      <td>-0.038703</td>\n",
       "      <td>-0.288584</td>\n",
       "      <td>-0.655656</td>\n",
       "      <td>-1.353911</td>\n",
       "      <td>-0.209788</td>\n",
       "      <td>0.244307</td>\n",
       "      <td>0.457496</td>\n",
       "      <td>1.909208</td>\n",
       "      <td>1.215880</td>\n",
       "      <td>0.235515</td>\n",
       "      <td>-2.675646</td>\n",
       "      <td>-3.378176</td>\n",
       "      <td>-0.477704</td>\n",
       "      <td>-0.544572</td>\n",
       "      <td>0.166110</td>\n",
       "      <td>-0.551262</td>\n",
       "    </tr>\n",
       "    <tr>\n",
       "      <th>2</th>\n",
       "      <td>-0.406866</td>\n",
       "      <td>-0.376318</td>\n",
       "      <td>-0.478121</td>\n",
       "      <td>-0.315307</td>\n",
       "      <td>-0.292878</td>\n",
       "      <td>-0.549565</td>\n",
       "      <td>-0.497090</td>\n",
       "      <td>0.201305</td>\n",
       "      <td>-0.554317</td>\n",
       "      <td>-0.905344</td>\n",
       "      <td>-0.259582</td>\n",
       "      <td>-1.204845</td>\n",
       "      <td>-0.931341</td>\n",
       "      <td>-0.300749</td>\n",
       "      <td>0.585935</td>\n",
       "      <td>-0.177290</td>\n",
       "      <td>-0.667767</td>\n",
       "    </tr>\n",
       "    <tr>\n",
       "      <th>3</th>\n",
       "      <td>-0.668261</td>\n",
       "      <td>-0.681682</td>\n",
       "      <td>-0.692427</td>\n",
       "      <td>1.840231</td>\n",
       "      <td>1.677612</td>\n",
       "      <td>-0.658079</td>\n",
       "      <td>-0.520752</td>\n",
       "      <td>0.626633</td>\n",
       "      <td>0.996791</td>\n",
       "      <td>-0.602312</td>\n",
       "      <td>-0.688173</td>\n",
       "      <td>1.185206</td>\n",
       "      <td>1.175657</td>\n",
       "      <td>-1.615274</td>\n",
       "      <td>1.151188</td>\n",
       "      <td>1.792851</td>\n",
       "      <td>-0.376504</td>\n",
       "    </tr>\n",
       "    <tr>\n",
       "      <th>4</th>\n",
       "      <td>-0.726176</td>\n",
       "      <td>-0.764555</td>\n",
       "      <td>-0.780735</td>\n",
       "      <td>-0.655656</td>\n",
       "      <td>-0.596031</td>\n",
       "      <td>-0.711924</td>\n",
       "      <td>0.009005</td>\n",
       "      <td>-0.716508</td>\n",
       "      <td>-0.216723</td>\n",
       "      <td>1.518912</td>\n",
       "      <td>0.235515</td>\n",
       "      <td>0.204672</td>\n",
       "      <td>-0.523535</td>\n",
       "      <td>-0.553542</td>\n",
       "      <td>-1.675079</td>\n",
       "      <td>0.241803</td>\n",
       "      <td>-2.939613</td>\n",
       "    </tr>\n",
       "  </tbody>\n",
       "</table>\n",
       "</div>"
      ],
      "text/plain": [
       "       Apps    Accept    Enroll  Top10perc  Top25perc  F.Undergrad  \\\n",
       "0 -0.346882 -0.321205 -0.063509  -0.258583  -0.191827    -0.168116   \n",
       "1 -0.210884 -0.038703 -0.288584  -0.655656  -1.353911    -0.209788   \n",
       "2 -0.406866 -0.376318 -0.478121  -0.315307  -0.292878    -0.549565   \n",
       "3 -0.668261 -0.681682 -0.692427   1.840231   1.677612    -0.658079   \n",
       "4 -0.726176 -0.764555 -0.780735  -0.655656  -0.596031    -0.711924   \n",
       "\n",
       "   P.Undergrad  Outstate  Room.Board     Books  Personal       PhD  Terminal  \\\n",
       "0    -0.209207 -0.746356   -0.964905 -0.602312  1.270045 -0.163028 -0.115729   \n",
       "1     0.244307  0.457496    1.909208  1.215880  0.235515 -2.675646 -3.378176   \n",
       "2    -0.497090  0.201305   -0.554317 -0.905344 -0.259582 -1.204845 -0.931341   \n",
       "3    -0.520752  0.626633    0.996791 -0.602312 -0.688173  1.185206  1.175657   \n",
       "4     0.009005 -0.716508   -0.216723  1.518912  0.235515  0.204672 -0.523535   \n",
       "\n",
       "   S.F.Ratio  perc.alumni    Expend  Grad.Rate  \n",
       "0   1.013776    -0.867574 -0.501910  -0.318252  \n",
       "1  -0.477704    -0.544572  0.166110  -0.551262  \n",
       "2  -0.300749     0.585935 -0.177290  -0.667767  \n",
       "3  -1.615274     1.151188  1.792851  -0.376504  \n",
       "4  -0.553542    -1.675079  0.241803  -2.939613  "
      ]
     },
     "execution_count": 103,
     "metadata": {},
     "output_type": "execute_result"
    }
   ],
   "source": [
    "from scipy.stats import zscore\n",
    "df_num_scaled=df_num.apply(zscore)\n",
    "df_num_scaled.head()\n",
    "\n"
   ]
  },
  {
   "cell_type": "code",
   "execution_count": 56,
   "metadata": {},
   "outputs": [
    {
     "name": "stdout",
     "output_type": "stream",
     "text": [
      "<class 'pandas.core.frame.DataFrame'>\n",
      "RangeIndex: 777 entries, 0 to 776\n",
      "Data columns (total 17 columns):\n",
      " #   Column       Non-Null Count  Dtype  \n",
      "---  ------       --------------  -----  \n",
      " 0   Apps         777 non-null    float64\n",
      " 1   Accept       777 non-null    float64\n",
      " 2   Enroll       777 non-null    float64\n",
      " 3   Top10perc    777 non-null    float64\n",
      " 4   Top25perc    777 non-null    float64\n",
      " 5   F.Undergrad  777 non-null    float64\n",
      " 6   P.Undergrad  777 non-null    float64\n",
      " 7   Outstate     777 non-null    float64\n",
      " 8   Room.Board   777 non-null    float64\n",
      " 9   Books        777 non-null    float64\n",
      " 10  Personal     777 non-null    float64\n",
      " 11  PhD          777 non-null    float64\n",
      " 12  Terminal     777 non-null    float64\n",
      " 13  S.F.Ratio    777 non-null    float64\n",
      " 14  perc.alumni  777 non-null    float64\n",
      " 15  Expend       777 non-null    float64\n",
      " 16  Grad.Rate    777 non-null    float64\n",
      "dtypes: float64(17)\n",
      "memory usage: 103.3 KB\n"
     ]
    }
   ],
   "source": [
    "df_num_scaled.info()"
   ]
  },
  {
   "cell_type": "code",
   "execution_count": 104,
   "metadata": {},
   "outputs": [
    {
     "data": {
      "image/png": "[encoded data removed]",
      "text/plain": [
       "<Figure size 1440x720 with 1 Axes>"
      ]
     },
     "metadata": {
      "needs_background": "light"
     },
     "output_type": "display_data"
    }
   ],
   "source": [
    "df_num_scaled.boxplot(figsize=(20,10))\n",
    "plt.xticks(rotation=90)\n",
    "plt.show()"
   ]
  },
  {
   "cell_type": "markdown",
   "metadata": {},
   "source": [
    "# Statistical tests to be done before PCA"
   ]
  },
  {
   "cell_type": "markdown",
   "metadata": {},
   "source": [
    "#### Bartletts Test of Sphericity"
   ]
  },
  {
   "cell_type": "code",
   "execution_count": 51,
   "metadata": {},
   "outputs": [
    {
     "name": "stderr",
     "output_type": "stream",
     "text": [
      "C:\\Users\\josep\\anaconda3\\lib\\site-packages\\factor_analyzer\\factor_analyzer.py:118: RuntimeWarning: divide by zero encountered in log\n",
      "  statistic = -np.log(corr_det) * (n - 1 - (2 * p + 5) / 6)\n"
     ]
    },
    {
     "data": {
      "text/plain": [
       "0.0"
      ]
     },
     "execution_count": 51,
     "metadata": {},
     "output_type": "execute_result"
    }
   ],
   "source": [
    "from factor_analyzer.factor_analyzer import calculate_bartlett_sphericity\n",
    "chi_square_value,p_value=calculate_bartlett_sphericity(df_num_scaled)\n",
    "p_value"
   ]
  },
  {
   "cell_type": "markdown",
   "metadata": {},
   "source": [
    "#### KMO Test    "
   ]
  },
  {
   "cell_type": "code",
   "execution_count": 58,
   "metadata": {},
   "outputs": [
    {
     "data": {
      "text/plain": [
       "0.8131251200373522"
      ]
     },
     "execution_count": 58,
     "metadata": {},
     "output_type": "execute_result"
    }
   ],
   "source": [
    "from factor_analyzer.factor_analyzer import calculate_kmo\n",
    "kmo_all,kmo_model=calculate_kmo(df_num_scaled)\n",
    "kmo_model"
   ]
  },
  {
   "cell_type": "code",
   "execution_count": 149,
   "metadata": {},
   "outputs": [
    {
     "name": "stdout",
     "output_type": "stream",
     "text": [
      "Covariance Matrix \n",
      "%s [[ 1.49784595e+07  8.94985981e+06  3.04525599e+06  2.31327731e+04\n",
      "   2.69526635e+04  1.52897025e+07  2.34662015e+06  7.80970356e+05\n",
      "   7.00072872e+05  8.47037526e+04  4.68346833e+05  2.46894337e+04\n",
      "   2.10530676e+04  1.46506058e+03 -4.32712238e+03  5.24617110e+06\n",
      "   9.75642164e+03]\n",
      " [ 8.94985981e+06  6.00795970e+06  2.07626776e+06  8.32112487e+03\n",
      "   1.20134048e+04  1.03935824e+07  1.64666972e+06 -2.53962285e+05\n",
      "   2.44347147e+05  4.59428079e+04  3.33556631e+05  1.42382015e+04\n",
      "   1.21820938e+04  1.70983819e+03 -4.85948702e+03  1.59627169e+06\n",
      "   2.83416292e+03]\n",
      " [ 3.04525599e+06  2.07626776e+06  8.63368392e+05  2.97158341e+03\n",
      "   4.17259244e+03  4.34752988e+06  7.25790674e+05 -5.81188483e+05\n",
      "  -4.09970592e+04  1.72911997e+04  1.76737970e+05  5.02896117e+03\n",
      "   4.21708603e+03  8.72684773e+02 -2.08169379e+03  3.11345431e+05\n",
      "  -3.56587977e+02]\n",
      " [ 2.31327731e+04  8.32112487e+03  2.97158341e+03  3.11182456e+02\n",
      "   3.11630480e+02  1.20891137e+04 -2.82947498e+03  3.99071798e+04\n",
      "   7.18670561e+03  3.46177405e+02 -1.11455119e+03  1.53184870e+02\n",
      "   1.27551581e+02 -2.68745252e+01  9.95672077e+01  6.08793102e+04\n",
      "   1.49992164e+02]\n",
      " [ 2.69526635e+04  1.20134048e+04  4.17259244e+03  3.11630480e+02\n",
      "   3.92229216e+02  1.91589528e+04 -1.61541214e+03  3.89924275e+04\n",
      "   7.19990357e+03  3.77759266e+02 -1.08360506e+03  1.76518449e+02\n",
      "   1.53002612e+02 -2.30971994e+01  1.02550946e+02  5.45464833e+04\n",
      "   1.62371398e+02]\n",
      " [ 1.52897025e+07  1.03935824e+07  4.34752988e+06  1.20891137e+04\n",
      "   1.91589528e+04  2.35265793e+07  4.21291009e+06 -4.20984304e+06\n",
      "  -3.66458224e+05  9.25357647e+04  1.04170909e+06  2.52117842e+04\n",
      "   2.14242417e+04  5.37020858e+03 -1.37919297e+04  4.72403958e+05\n",
      "  -6.56330753e+03]\n",
      " [ 2.34662015e+06  1.64666972e+06  7.25790674e+05 -2.82947498e+03\n",
      "  -1.61541214e+03  4.21291009e+06  2.31779885e+06 -1.55270428e+06\n",
      "  -1.02391862e+05  2.04104467e+04  3.29732427e+05  3.70675622e+03\n",
      "   3.18059661e+03  1.40130256e+03 -5.29733709e+03 -6.64351154e+05\n",
      "  -6.72106249e+03]\n",
      " [ 7.80970356e+05 -2.53962285e+05 -5.81188483e+05  3.99071798e+04\n",
      "   3.89924275e+04 -4.20984304e+06 -1.55270428e+06  1.61846616e+07\n",
      "   2.88659739e+06  2.58082421e+04 -8.14673718e+05  2.51575151e+04\n",
      "   2.41641477e+04 -8.83525354e+03  2.82295531e+04  1.41332357e+07\n",
      "   3.94796818e+04]\n",
      " [ 7.00072872e+05  2.44347147e+05 -4.09970592e+04  7.18670561e+03\n",
      "   7.19990357e+03 -3.66458224e+05 -1.02391862e+05  2.88659739e+06\n",
      "   1.20274303e+06  2.31703134e+04 -1.48083768e+05  5.89503475e+03\n",
      "   6.04729974e+03 -1.57420591e+03  3.70143138e+03  2.87330848e+06\n",
      "   8.00536018e+03]\n",
      " [ 8.47037526e+04  4.59428079e+04  1.72911997e+04  3.46177405e+02\n",
      "   3.77759266e+02  9.25357647e+04  2.04104467e+04  2.58082421e+04\n",
      "   2.31703134e+04  2.72597799e+04  2.00430257e+04  7.25342415e+01\n",
      "   2.42963918e+02 -2.08672067e+01 -8.22631321e+01  9.69125803e+04\n",
      "   3.00883652e+00]\n",
      " [ 4.68346833e+05  3.33556631e+05  1.76737970e+05 -1.11455119e+03\n",
      "  -1.08360506e+03  1.04170909e+06  3.29732427e+05 -8.14673718e+05\n",
      "  -1.48083768e+05  2.00430257e+04  4.58425753e+05 -1.20898783e+02\n",
      "  -3.05154186e+02  3.65415770e+02 -2.39931082e+03 -3.46097802e+05\n",
      "  -3.13261494e+03]\n",
      " [ 2.46894337e+04  1.42382015e+04  5.02896117e+03  1.53184870e+02\n",
      "   1.76518449e+02  2.52117842e+04  3.70675622e+03  2.51575151e+04\n",
      "   5.89503475e+03  7.25342415e+01 -1.20898783e+02  2.66608636e+02\n",
      "   2.04231332e+02 -8.43649246e+00  5.03832295e+01  3.68980582e+04\n",
      "   8.55571090e+01]\n",
      " [ 2.10530676e+04  1.21820938e+04  4.21708603e+03  1.27551581e+02\n",
      "   1.53002612e+02  2.14242417e+04  3.18059661e+03  2.41641477e+04\n",
      "   6.04729974e+03  2.42963918e+02 -3.05154186e+02  2.04231332e+02\n",
      "   2.16747841e+02 -9.33025564e+00  4.87343271e+01  3.37334569e+04\n",
      "   7.32203957e+01]\n",
      " [ 1.46506058e+03  1.70983819e+03  8.72684773e+02 -2.68745252e+01\n",
      "  -2.30971994e+01  5.37020858e+03  1.40130256e+03 -8.83525354e+03\n",
      "  -1.57420591e+03 -2.08672067e+01  3.65415770e+02 -8.43649246e+00\n",
      "  -9.33025564e+00  1.56685279e+01 -1.97641094e+01 -1.20675646e+04\n",
      "  -2.08548884e+01]\n",
      " [-4.32712238e+03 -4.85948702e+03 -2.08169379e+03  9.95672077e+01\n",
      "   1.02550946e+02 -1.37919297e+04 -5.29733709e+03  2.82295531e+04\n",
      "   3.70143138e+03 -8.22631321e+01 -2.39931082e+03  5.03832295e+01\n",
      "   4.87343271e+01 -1.97641094e+01  1.53556744e+02  2.70289215e+04\n",
      "   1.04493815e+02]\n",
      " [ 5.24617110e+06  1.59627169e+06  3.11345431e+05  6.08793102e+04\n",
      "   5.45464833e+04  4.72403958e+05 -6.64351154e+05  1.41332357e+07\n",
      "   2.87330848e+06  9.69125803e+04 -3.46097802e+05  3.68980582e+04\n",
      "   3.37334569e+04 -1.20675646e+04  2.70289215e+04  2.72668656e+07\n",
      "   3.50129683e+04]\n",
      " [ 9.75642164e+03  2.83416292e+03 -3.56587977e+02  1.49992164e+02\n",
      "   1.62371398e+02 -6.56330753e+03 -6.72106249e+03  3.94796818e+04\n",
      "   8.00536018e+03  3.00883652e+00 -3.13261494e+03  8.55571090e+01\n",
      "   7.32203957e+01 -2.08548884e+01  1.04493815e+02  3.50129683e+04\n",
      "   2.95073717e+02]]\n"
     ]
    }
   ],
   "source": [
    "\n",
    "cov_matrix = np.cov(df_num.T)\n",
    "print('Covariance Matrix \\n%s', cov_matrix)"
   ]
  },
  {
   "cell_type": "code",
   "execution_count": 165,
   "metadata": {},
   "outputs": [
    {
     "name": "stdout",
     "output_type": "stream",
     "text": [
      "Covariance Matrix \n",
      "%s [[ 1.00128866  0.94466636  0.84791332  0.33927032  0.35209304  0.81554018\n",
      "   0.3987775   0.05022367  0.16515151  0.13272942  0.17896117  0.39120081\n",
      "   0.36996762  0.09575627 -0.09034216  0.2599265   0.14694372]\n",
      " [ 0.94466636  1.00128866  0.91281145  0.19269493  0.24779465  0.87534985\n",
      "   0.44183938 -0.02578774  0.09101577  0.11367165  0.20124767  0.35621633\n",
      "   0.3380184   0.17645611 -0.16019604  0.12487773  0.06739929]\n",
      " [ 0.84791332  0.91281145  1.00128866  0.18152715  0.2270373   0.96588274\n",
      "   0.51372977 -0.1556777  -0.04028353  0.11285614  0.28129148  0.33189629\n",
      "   0.30867133  0.23757707 -0.18102711  0.06425192 -0.02236983]\n",
      " [ 0.33927032  0.19269493  0.18152715  1.00128866  0.89314445  0.1414708\n",
      "  -0.10549205  0.5630552   0.37195909  0.1190116  -0.09343665  0.53251337\n",
      "   0.49176793 -0.38537048  0.45607223  0.6617651   0.49562711]\n",
      " [ 0.35209304  0.24779465  0.2270373   0.89314445  1.00128866  0.19970167\n",
      "  -0.05364569  0.49002449  0.33191707  0.115676   -0.08091441  0.54656564\n",
      "   0.52542506 -0.29500852  0.41840277  0.52812713  0.47789622]\n",
      " [ 0.81554018  0.87534985  0.96588274  0.1414708   0.19970167  1.00128866\n",
      "   0.57124738 -0.21602002 -0.06897917  0.11569867  0.31760831  0.3187472\n",
      "   0.30040557  0.28006379 -0.22975792  0.01867565 -0.07887464]\n",
      " [ 0.3987775   0.44183938  0.51372977 -0.10549205 -0.05364569  0.57124738\n",
      "   1.00128866 -0.25383901 -0.06140453  0.08130416  0.32029384  0.14930637\n",
      "   0.14208644  0.23283016 -0.28115421 -0.08367612 -0.25733218]\n",
      " [ 0.05022367 -0.02578774 -0.1556777   0.5630552   0.49002449 -0.21602002\n",
      "  -0.25383901  1.00128866  0.65509951  0.03890494 -0.29947232  0.38347594\n",
      "   0.40850895 -0.55553625  0.56699214  0.6736456   0.57202613]\n",
      " [ 0.16515151  0.09101577 -0.04028353  0.37195909  0.33191707 -0.06897917\n",
      "  -0.06140453  0.65509951  1.00128866  0.12812787 -0.19968518  0.32962651\n",
      "   0.3750222  -0.36309504  0.27271444  0.50238599  0.42548915]\n",
      " [ 0.13272942  0.11367165  0.11285614  0.1190116   0.115676    0.11569867\n",
      "   0.08130416  0.03890494  0.12812787  1.00128866  0.17952581  0.0269404\n",
      "   0.10008351 -0.03197042 -0.04025955  0.11255393  0.00106226]\n",
      " [ 0.17896117  0.20124767  0.28129148 -0.09343665 -0.08091441  0.31760831\n",
      "   0.32029384 -0.29947232 -0.19968518  0.17952581  1.00128866 -0.01094989\n",
      "  -0.03065256  0.13652054 -0.2863366  -0.09801804 -0.26969106]\n",
      " [ 0.39120081  0.35621633  0.33189629  0.53251337  0.54656564  0.3187472\n",
      "   0.14930637  0.38347594  0.32962651  0.0269404  -0.01094989  1.00128866\n",
      "   0.85068186 -0.13069832  0.24932955  0.43331936  0.30543094]\n",
      " [ 0.36996762  0.3380184   0.30867133  0.49176793  0.52542506  0.30040557\n",
      "   0.14208644  0.40850895  0.3750222   0.10008351 -0.03065256  0.85068186\n",
      "   1.00128866 -0.16031027  0.26747453  0.43936469  0.28990033]\n",
      " [ 0.09575627  0.17645611  0.23757707 -0.38537048 -0.29500852  0.28006379\n",
      "   0.23283016 -0.55553625 -0.36309504 -0.03197042  0.13652054 -0.13069832\n",
      "  -0.16031027  1.00128866 -0.4034484  -0.5845844  -0.30710565]\n",
      " [-0.09034216 -0.16019604 -0.18102711  0.45607223  0.41840277 -0.22975792\n",
      "  -0.28115421  0.56699214  0.27271444 -0.04025955 -0.2863366   0.24932955\n",
      "   0.26747453 -0.4034484   1.00128866  0.41825001  0.49153016]\n",
      " [ 0.2599265   0.12487773  0.06425192  0.6617651   0.52812713  0.01867565\n",
      "  -0.08367612  0.6736456   0.50238599  0.11255393 -0.09801804  0.43331936\n",
      "   0.43936469 -0.5845844   0.41825001  1.00128866  0.39084571]\n",
      " [ 0.14694372  0.06739929 -0.02236983  0.49562711  0.47789622 -0.07887464\n",
      "  -0.25733218  0.57202613  0.42548915  0.00106226 -0.26969106  0.30543094\n",
      "   0.28990033 -0.30710565  0.49153016  0.39084571  1.00128866]]\n"
     ]
    }
   ],
   "source": [
    "print('Covariance Matrix \\n%s', cov_matrix)"
   ]
  },
  {
   "cell_type": "code",
   "execution_count": 151,
   "metadata": {
    "scrolled": true
   },
   "outputs": [
    {
     "name": "stdout",
     "output_type": "stream",
     "text": [
      "Covariance Matrix \n",
      "%s [[ 1.00128866  0.94466636  0.84791332  0.33927032  0.35209304  0.81554018\n",
      "   0.3987775   0.05022367  0.16515151  0.13272942  0.17896117  0.39120081\n",
      "   0.36996762  0.09575627 -0.09034216  0.2599265   0.14694372]\n",
      " [ 0.94466636  1.00128866  0.91281145  0.19269493  0.24779465  0.87534985\n",
      "   0.44183938 -0.02578774  0.09101577  0.11367165  0.20124767  0.35621633\n",
      "   0.3380184   0.17645611 -0.16019604  0.12487773  0.06739929]\n",
      " [ 0.84791332  0.91281145  1.00128866  0.18152715  0.2270373   0.96588274\n",
      "   0.51372977 -0.1556777  -0.04028353  0.11285614  0.28129148  0.33189629\n",
      "   0.30867133  0.23757707 -0.18102711  0.06425192 -0.02236983]\n",
      " [ 0.33927032  0.19269493  0.18152715  1.00128866  0.89314445  0.1414708\n",
      "  -0.10549205  0.5630552   0.37195909  0.1190116  -0.09343665  0.53251337\n",
      "   0.49176793 -0.38537048  0.45607223  0.6617651   0.49562711]\n",
      " [ 0.35209304  0.24779465  0.2270373   0.89314445  1.00128866  0.19970167\n",
      "  -0.05364569  0.49002449  0.33191707  0.115676   -0.08091441  0.54656564\n",
      "   0.52542506 -0.29500852  0.41840277  0.52812713  0.47789622]\n",
      " [ 0.81554018  0.87534985  0.96588274  0.1414708   0.19970167  1.00128866\n",
      "   0.57124738 -0.21602002 -0.06897917  0.11569867  0.31760831  0.3187472\n",
      "   0.30040557  0.28006379 -0.22975792  0.01867565 -0.07887464]\n",
      " [ 0.3987775   0.44183938  0.51372977 -0.10549205 -0.05364569  0.57124738\n",
      "   1.00128866 -0.25383901 -0.06140453  0.08130416  0.32029384  0.14930637\n",
      "   0.14208644  0.23283016 -0.28115421 -0.08367612 -0.25733218]\n",
      " [ 0.05022367 -0.02578774 -0.1556777   0.5630552   0.49002449 -0.21602002\n",
      "  -0.25383901  1.00128866  0.65509951  0.03890494 -0.29947232  0.38347594\n",
      "   0.40850895 -0.55553625  0.56699214  0.6736456   0.57202613]\n",
      " [ 0.16515151  0.09101577 -0.04028353  0.37195909  0.33191707 -0.06897917\n",
      "  -0.06140453  0.65509951  1.00128866  0.12812787 -0.19968518  0.32962651\n",
      "   0.3750222  -0.36309504  0.27271444  0.50238599  0.42548915]\n",
      " [ 0.13272942  0.11367165  0.11285614  0.1190116   0.115676    0.11569867\n",
      "   0.08130416  0.03890494  0.12812787  1.00128866  0.17952581  0.0269404\n",
      "   0.10008351 -0.03197042 -0.04025955  0.11255393  0.00106226]\n",
      " [ 0.17896117  0.20124767  0.28129148 -0.09343665 -0.08091441  0.31760831\n",
      "   0.32029384 -0.29947232 -0.19968518  0.17952581  1.00128866 -0.01094989\n",
      "  -0.03065256  0.13652054 -0.2863366  -0.09801804 -0.26969106]\n",
      " [ 0.39120081  0.35621633  0.33189629  0.53251337  0.54656564  0.3187472\n",
      "   0.14930637  0.38347594  0.32962651  0.0269404  -0.01094989  1.00128866\n",
      "   0.85068186 -0.13069832  0.24932955  0.43331936  0.30543094]\n",
      " [ 0.36996762  0.3380184   0.30867133  0.49176793  0.52542506  0.30040557\n",
      "   0.14208644  0.40850895  0.3750222   0.10008351 -0.03065256  0.85068186\n",
      "   1.00128866 -0.16031027  0.26747453  0.43936469  0.28990033]\n",
      " [ 0.09575627  0.17645611  0.23757707 -0.38537048 -0.29500852  0.28006379\n",
      "   0.23283016 -0.55553625 -0.36309504 -0.03197042  0.13652054 -0.13069832\n",
      "  -0.16031027  1.00128866 -0.4034484  -0.5845844  -0.30710565]\n",
      " [-0.09034216 -0.16019604 -0.18102711  0.45607223  0.41840277 -0.22975792\n",
      "  -0.28115421  0.56699214  0.27271444 -0.04025955 -0.2863366   0.24932955\n",
      "   0.26747453 -0.4034484   1.00128866  0.41825001  0.49153016]\n",
      " [ 0.2599265   0.12487773  0.06425192  0.6617651   0.52812713  0.01867565\n",
      "  -0.08367612  0.6736456   0.50238599  0.11255393 -0.09801804  0.43331936\n",
      "   0.43936469 -0.5845844   0.41825001  1.00128866  0.39084571]\n",
      " [ 0.14694372  0.06739929 -0.02236983  0.49562711  0.47789622 -0.07887464\n",
      "  -0.25733218  0.57202613  0.42548915  0.00106226 -0.26969106  0.30543094\n",
      "   0.28990033 -0.30710565  0.49153016  0.39084571  1.00128866]]\n"
     ]
    }
   ],
   "source": [
    "\n",
    "cov_matrix = np.cov(df_num_scaled.T)\n",
    "print('Covariance Matrix \\n%s', cov_matrix)"
   ]
  },
  {
   "cell_type": "code",
   "execution_count": 169,
   "metadata": {},
   "outputs": [
    {
     "data": {
      "text/plain": [
       "array([[ 1.0013,  0.9447,  0.8479,  0.3393,  0.3521,  0.8155,  0.3988,\n",
       "         0.0502,  0.1652,  0.1327,  0.179 ,  0.3912,  0.37  ,  0.0958,\n",
       "        -0.0903,  0.2599,  0.1469],\n",
       "       [ 0.9447,  1.0013,  0.9128,  0.1927,  0.2478,  0.8753,  0.4418,\n",
       "        -0.0258,  0.091 ,  0.1137,  0.2012,  0.3562,  0.338 ,  0.1765,\n",
       "        -0.1602,  0.1249,  0.0674],\n",
       "       [ 0.8479,  0.9128,  1.0013,  0.1815,  0.227 ,  0.9659,  0.5137,\n",
       "        -0.1557, -0.0403,  0.1129,  0.2813,  0.3319,  0.3087,  0.2376,\n",
       "        -0.181 ,  0.0643, -0.0224],\n",
       "       [ 0.3393,  0.1927,  0.1815,  1.0013,  0.8931,  0.1415, -0.1055,\n",
       "         0.5631,  0.372 ,  0.119 , -0.0934,  0.5325,  0.4918, -0.3854,\n",
       "         0.4561,  0.6618,  0.4956],\n",
       "       [ 0.3521,  0.2478,  0.227 ,  0.8931,  1.0013,  0.1997, -0.0536,\n",
       "         0.49  ,  0.3319,  0.1157, -0.0809,  0.5466,  0.5254, -0.295 ,\n",
       "         0.4184,  0.5281,  0.4779],\n",
       "       [ 0.8155,  0.8753,  0.9659,  0.1415,  0.1997,  1.0013,  0.5712,\n",
       "        -0.216 , -0.069 ,  0.1157,  0.3176,  0.3187,  0.3004,  0.2801,\n",
       "        -0.2298,  0.0187, -0.0789],\n",
       "       [ 0.3988,  0.4418,  0.5137, -0.1055, -0.0536,  0.5712,  1.0013,\n",
       "        -0.2538, -0.0614,  0.0813,  0.3203,  0.1493,  0.1421,  0.2328,\n",
       "        -0.2812, -0.0837, -0.2573],\n",
       "       [ 0.0502, -0.0258, -0.1557,  0.5631,  0.49  , -0.216 , -0.2538,\n",
       "         1.0013,  0.6551,  0.0389, -0.2995,  0.3835,  0.4085, -0.5555,\n",
       "         0.567 ,  0.6736,  0.572 ],\n",
       "       [ 0.1652,  0.091 , -0.0403,  0.372 ,  0.3319, -0.069 , -0.0614,\n",
       "         0.6551,  1.0013,  0.1281, -0.1997,  0.3296,  0.375 , -0.3631,\n",
       "         0.2727,  0.5024,  0.4255],\n",
       "       [ 0.1327,  0.1137,  0.1129,  0.119 ,  0.1157,  0.1157,  0.0813,\n",
       "         0.0389,  0.1281,  1.0013,  0.1795,  0.0269,  0.1001, -0.032 ,\n",
       "        -0.0403,  0.1126,  0.0011],\n",
       "       [ 0.179 ,  0.2012,  0.2813, -0.0934, -0.0809,  0.3176,  0.3203,\n",
       "        -0.2995, -0.1997,  0.1795,  1.0013, -0.0109, -0.0307,  0.1365,\n",
       "        -0.2863, -0.098 , -0.2697],\n",
       "       [ 0.3912,  0.3562,  0.3319,  0.5325,  0.5466,  0.3187,  0.1493,\n",
       "         0.3835,  0.3296,  0.0269, -0.0109,  1.0013,  0.8507, -0.1307,\n",
       "         0.2493,  0.4333,  0.3054],\n",
       "       [ 0.37  ,  0.338 ,  0.3087,  0.4918,  0.5254,  0.3004,  0.1421,\n",
       "         0.4085,  0.375 ,  0.1001, -0.0307,  0.8507,  1.0013, -0.1603,\n",
       "         0.2675,  0.4394,  0.2899],\n",
       "       [ 0.0958,  0.1765,  0.2376, -0.3854, -0.295 ,  0.2801,  0.2328,\n",
       "        -0.5555, -0.3631, -0.032 ,  0.1365, -0.1307, -0.1603,  1.0013,\n",
       "        -0.4034, -0.5846, -0.3071],\n",
       "       [-0.0903, -0.1602, -0.181 ,  0.4561,  0.4184, -0.2298, -0.2812,\n",
       "         0.567 ,  0.2727, -0.0403, -0.2863,  0.2493,  0.2675, -0.4034,\n",
       "         1.0013,  0.4183,  0.4915],\n",
       "       [ 0.2599,  0.1249,  0.0643,  0.6618,  0.5281,  0.0187, -0.0837,\n",
       "         0.6736,  0.5024,  0.1126, -0.098 ,  0.4333,  0.4394, -0.5846,\n",
       "         0.4183,  1.0013,  0.3908],\n",
       "       [ 0.1469,  0.0674, -0.0224,  0.4956,  0.4779, -0.0789, -0.2573,\n",
       "         0.572 ,  0.4255,  0.0011, -0.2697,  0.3054,  0.2899, -0.3071,\n",
       "         0.4915,  0.3908,  1.0013]])"
      ]
     },
     "execution_count": 169,
     "metadata": {},
     "output_type": "execute_result"
    }
   ],
   "source": [
    "cov_matrix.round(4)"
   ]
  },
  {
   "cell_type": "code",
   "execution_count": 1,
   "metadata": {},
   "outputs": [
    {
     "ename": "NameError",
     "evalue": "name 'df_num_scaled' is not defined",
     "output_type": "error",
     "traceback": [
      "\u001b[1;31m---------------------------------------------------------------------------\u001b[0m",
      "\u001b[1;31mNameError\u001b[0m                                 Traceback (most recent call last)",
      "\u001b[1;32m<ipython-input-1-5820d077a0bd>\u001b[0m in \u001b[0;36m<module>\u001b[1;34m\u001b[0m\n\u001b[1;32m----> 1\u001b[1;33m \u001b[0mcorr\u001b[0m \u001b[1;33m=\u001b[0m \u001b[0mdf_num_scaled\u001b[0m\u001b[1;33m.\u001b[0m\u001b[0mcorr\u001b[0m\u001b[1;33m(\u001b[0m\u001b[1;33m)\u001b[0m\u001b[1;33m\u001b[0m\u001b[1;33m\u001b[0m\u001b[0m\n\u001b[0m\u001b[0;32m      2\u001b[0m \u001b[0mcorr\u001b[0m\u001b[1;33m.\u001b[0m\u001b[0mstyle\u001b[0m\u001b[1;33m.\u001b[0m\u001b[0mbackground_gradient\u001b[0m\u001b[1;33m(\u001b[0m\u001b[0mcmap\u001b[0m\u001b[1;33m=\u001b[0m\u001b[1;34m'coolwarm'\u001b[0m\u001b[1;33m)\u001b[0m\u001b[1;33m\u001b[0m\u001b[1;33m\u001b[0m\u001b[0m\n",
      "\u001b[1;31mNameError\u001b[0m: name 'df_num_scaled' is not defined"
     ]
    }
   ],
   "source": [
    "corr = df_num_scaled.corr()\n",
    "corr.style.background_gradient(cmap='coolwarm')"
   ]
  },
  {
   "cell_type": "code",
   "execution_count": 2,
   "metadata": {},
   "outputs": [
    {
     "ename": "NameError",
     "evalue": "name 'np' is not defined",
     "output_type": "error",
     "traceback": [
      "\u001b[1;31m---------------------------------------------------------------------------\u001b[0m",
      "\u001b[1;31mNameError\u001b[0m                                 Traceback (most recent call last)",
      "\u001b[1;32m<ipython-input-2-4cba16ac8934>\u001b[0m in \u001b[0;36m<module>\u001b[1;34m\u001b[0m\n\u001b[0;32m      1\u001b[0m \u001b[1;31m# Step 2- Get eigen values and eigen vector\u001b[0m\u001b[1;33m\u001b[0m\u001b[1;33m\u001b[0m\u001b[1;33m\u001b[0m\u001b[0m\n\u001b[1;32m----> 2\u001b[1;33m \u001b[0meig_vals\u001b[0m\u001b[1;33m,\u001b[0m \u001b[0meig_vecs\u001b[0m \u001b[1;33m=\u001b[0m \u001b[0mnp\u001b[0m\u001b[1;33m.\u001b[0m\u001b[0mlinalg\u001b[0m\u001b[1;33m.\u001b[0m\u001b[0meig\u001b[0m\u001b[1;33m(\u001b[0m\u001b[0mcov_matrix\u001b[0m\u001b[1;33m)\u001b[0m\u001b[1;33m\u001b[0m\u001b[1;33m\u001b[0m\u001b[0m\n\u001b[0m\u001b[0;32m      3\u001b[0m \u001b[0mprint\u001b[0m\u001b[1;33m(\u001b[0m\u001b[1;34m'\\n Eigen Values \\n %s'\u001b[0m\u001b[1;33m,\u001b[0m \u001b[0meig_vals\u001b[0m\u001b[1;33m)\u001b[0m\u001b[1;33m\u001b[0m\u001b[1;33m\u001b[0m\u001b[0m\n\u001b[0;32m      4\u001b[0m \u001b[0mprint\u001b[0m\u001b[1;33m(\u001b[0m\u001b[1;34m'\\n'\u001b[0m\u001b[1;33m)\u001b[0m\u001b[1;33m\u001b[0m\u001b[1;33m\u001b[0m\u001b[0m\n\u001b[0;32m      5\u001b[0m \u001b[0mprint\u001b[0m\u001b[1;33m(\u001b[0m\u001b[1;34m'Eigen Vectors \\n %s'\u001b[0m\u001b[1;33m,\u001b[0m \u001b[0meig_vecs\u001b[0m\u001b[1;33m)\u001b[0m\u001b[1;33m\u001b[0m\u001b[1;33m\u001b[0m\u001b[0m\n",
      "\u001b[1;31mNameError\u001b[0m: name 'np' is not defined"
     ]
    }
   ],
   "source": [
    "# Step 2- Get eigen values and eigen vector\n",
    "eig_vals, eig_vecs = np.linalg.eig(cov_matrix)\n",
    "print('\\n Eigen Values \\n %s', eig_vals)\n",
    "print('\\n')\n",
    "print('Eigen Vectors \\n %s', eig_vecs)"
   ]
  },
  {
   "cell_type": "code",
   "execution_count": 3,
   "metadata": {},
   "outputs": [
    {
     "ename": "NameError",
     "evalue": "name 'eig_vecs' is not defined",
     "output_type": "error",
     "traceback": [
      "\u001b[1;31m---------------------------------------------------------------------------\u001b[0m",
      "\u001b[1;31mNameError\u001b[0m                                 Traceback (most recent call last)",
      "\u001b[1;32m<ipython-input-3-140da9cadcc0>\u001b[0m in \u001b[0;36m<module>\u001b[1;34m\u001b[0m\n\u001b[1;32m----> 1\u001b[1;33m \u001b[0meig_vecs\u001b[0m\u001b[1;33m.\u001b[0m\u001b[0mround\u001b[0m\u001b[1;33m(\u001b[0m\u001b[1;36m2\u001b[0m\u001b[1;33m)\u001b[0m\u001b[1;33m[\u001b[0m\u001b[1;36m0\u001b[0m\u001b[1;33m]\u001b[0m\u001b[1;33m\u001b[0m\u001b[1;33m\u001b[0m\u001b[0m\n\u001b[0m",
      "\u001b[1;31mNameError\u001b[0m: name 'eig_vecs' is not defined"
     ]
    }
   ],
   "source": [
    "eig_vecs.round(2)[0]"
   ]
  },
  {
   "cell_type": "code",
   "execution_count": 61,
   "metadata": {},
   "outputs": [
    {
     "name": "stdout",
     "output_type": "stream",
     "text": [
      "Cumulative Variance Explained [ 32.0206282   58.36084263  65.26175919  71.18474841  76.67315352\n",
      "  81.65785448  85.21672597  88.67034731  91.78758099  94.16277251\n",
      "  96.00419883  97.30024023  98.28599436  99.13183669  99.64896227\n",
      "  99.86471628 100.        ]\n"
     ]
    }
   ],
   "source": [
    "tot = sum(eig_vals)\n",
    "var_exp = [( i /tot ) * 100 for i in sorted(eig_vals, reverse=True)]\n",
    "cum_var_exp = np.cumsum(var_exp)\n",
    "print(\"Cumulative Variance Explained\", cum_var_exp)"
   ]
  },
  {
   "cell_type": "code",
   "execution_count": 62,
   "metadata": {},
   "outputs": [
    {
     "data": {
      "image/png": "[encoded data removed]",
      "text/plain": [
       "<Figure size 864x504 with 1 Axes>"
      ]
     },
     "metadata": {
      "needs_background": "light"
     },
     "output_type": "display_data"
    }
   ],
   "source": [
    "# Step 3 View Scree Plot to identify the number of components to be built\n",
    "plt.figure(figsize=(12,7))\n",
    "sns.lineplot(y=var_exp,x=range(1,len(var_exp)+1),marker='o')\n",
    "plt.xlabel('Number of Components',fontsize=15)\n",
    "plt.ylabel('Variance Explained',fontsize=15)\n",
    "plt.title('Scree Plot',fontsize=15)\n",
    "plt.grid()\n",
    "plt.show()"
   ]
  },
  {
   "cell_type": "code",
   "execution_count": 152,
   "metadata": {},
   "outputs": [
    {
     "data": {
      "text/plain": [
       "array([[-1.59285540e+00, -2.19240180e+00, -1.43096371e+00, ...,\n",
       "        -7.32560596e-01,  7.91932735e+00, -4.69508066e-01],\n",
       "       [ 7.67333510e-01, -5.78829984e-01, -1.09281889e+00, ...,\n",
       "        -7.72352401e-02, -2.06832886e+00,  3.66660943e-01],\n",
       "       [-1.01073616e-01,  2.27879810e+00, -4.38092815e-01, ...,\n",
       "        -4.05798710e-04,  2.07356387e+00, -1.32891523e+00],\n",
       "       [-9.21749291e-01,  3.58891825e+00,  6.77240533e-01, ...,\n",
       "         5.43164956e-02,  8.52053749e-01, -1.08022442e-01],\n",
       "       [-7.43975435e-01,  1.05999660e+00, -3.69613276e-01, ...,\n",
       "        -5.16021192e-01, -9.47754660e-01, -1.13217598e+00],\n",
       "       [-2.98306092e-01, -1.77137311e-01, -9.60591689e-01, ...,\n",
       "         4.68014225e-01, -2.06993735e+00,  8.39893075e-01]])"
      ]
     },
     "execution_count": 152,
     "metadata": {},
     "output_type": "execute_result"
    }
   ],
   "source": [
    "from sklearn.decomposition import PCA\n",
    "\n",
    "pca = PCA(n_components=6, random_state=123)\n",
    "df_pca = pca.fit_transform(df_num_scaled)\n",
    "df_pca.transpose() "
   ]
  },
  {
   "cell_type": "code",
   "execution_count": 183,
   "metadata": {},
   "outputs": [
    {
     "data": {
      "text/plain": [
       "array([[ 0.2487656 ,  0.2076015 ,  0.17630359,  0.35427395,  0.34400128,\n",
       "         0.15464096,  0.0264425 ,  0.29473642,  0.24903045,  0.06475752,\n",
       "        -0.04252854,  0.31831287,  0.31705602, -0.17695789,  0.20508237,\n",
       "         0.31890875,  0.25231565],\n",
       "       [ 0.33159823,  0.37211675,  0.40372425, -0.08241182, -0.04477866,\n",
       "         0.41767377,  0.31508783, -0.24964352, -0.13780888,  0.05634184,\n",
       "         0.21992922,  0.05831132,  0.04642945,  0.24666528, -0.24659527,\n",
       "        -0.13168986, -0.16924053],\n",
       "       [-0.06309209, -0.10124907, -0.08298558,  0.03505553, -0.02414794,\n",
       "        -0.06139296,  0.13968171,  0.04659888,  0.14896739,  0.67741165,\n",
       "         0.49972112, -0.12702837, -0.06603755, -0.2898484 , -0.14698927,\n",
       "         0.22674398, -0.20806465],\n",
       "       [ 0.28131052,  0.26781736,  0.16182679, -0.05154725, -0.10976654,\n",
       "         0.10041231, -0.15855849,  0.13129136,  0.18499599,  0.08708922,\n",
       "        -0.23071057, -0.53472483, -0.51944302, -0.16118949,  0.01731422,\n",
       "         0.0792735 ,  0.26912907],\n",
       "       [ 0.00574142,  0.05578609, -0.05569364, -0.39543435, -0.42653359,\n",
       "        -0.04345436,  0.30238541,  0.222532  ,  0.56091947, -0.12728883,\n",
       "        -0.22231102,  0.14016633,  0.20471973, -0.07938825, -0.21629741,\n",
       "         0.07595812, -0.10926791],\n",
       "       [-0.01623744,  0.00753468, -0.04255798, -0.0526928 ,  0.03309159,\n",
       "        -0.04345423, -0.19119858, -0.03000039,  0.16275545,  0.64105495,\n",
       "        -0.331398  ,  0.09125552,  0.15492765,  0.48704587, -0.04734001,\n",
       "        -0.29811862,  0.21616331]])"
      ]
     },
     "execution_count": 183,
     "metadata": {},
     "output_type": "execute_result"
    }
   ],
   "source": [
    " pca.components_"
   ]
  },
  {
   "cell_type": "code",
   "execution_count": 153,
   "metadata": {},
   "outputs": [],
   "source": [
    "aa= pca.components_.round(2)"
   ]
  },
  {
   "cell_type": "code",
   "execution_count": 154,
   "metadata": {},
   "outputs": [
    {
     "data": {
      "text/plain": [
       "array([ 0.25,  0.21,  0.18,  0.35,  0.34,  0.15,  0.03,  0.29,  0.25,\n",
       "        0.06, -0.04,  0.32,  0.32, -0.18,  0.21,  0.32,  0.25])"
      ]
     },
     "execution_count": 154,
     "metadata": {},
     "output_type": "execute_result"
    }
   ],
   "source": [
    "aa[0]"
   ]
  },
  {
   "cell_type": "code",
   "execution_count": 188,
   "metadata": {},
   "outputs": [
    {
     "data": {
      "text/plain": [
       "Index(['Apps', 'Accept', 'Enroll', 'Top10perc', 'Top25perc', 'F.Undergrad',\n",
       "       'P.Undergrad', 'Outstate', 'Room.Board', 'Books', 'Personal', 'PhD',\n",
       "       'Terminal', 'S.F.Ratio', 'perc.alumni', 'Expend', 'Grad.Rate'],\n",
       "      dtype='object')"
      ]
     },
     "execution_count": 188,
     "metadata": {},
     "output_type": "execute_result"
    }
   ],
   "source": [
    "df_num.columns"
   ]
  },
  {
   "cell_type": "code",
   "execution_count": 194,
   "metadata": {},
   "outputs": [
    {
     "name": "stdout",
     "output_type": "stream",
     "text": [
      "The Linear eq of 1st component: \n",
      "0.25 * Apps + 0.21 * Accept + 0.18 * Enroll + 0.35 * Top10perc + 0.34 * Top25perc + 0.15 * F.Undergrad + 0.03 * P.Undergrad + 0.29 * Outstate + 0.25 * Room.Board + 0.06 * Books + -0.04 * Personal + 0.32 * PhD + 0.32 * Terminal + -0.18 * S.F.Ratio + 0.21 * perc.alumni + 0.32 * Expend + 0.25 * Grad.Rate + "
     ]
    }
   ],
   "source": [
    "print('The Linear eq of 1st component: ')\n",
    "for i in range(0,df_num.shape[1]):\n",
    "    print('{} * {}'.format(np.round(pca.components_[0][i],2),df_num.columns[i]),end=' + ')"
   ]
  },
  {
   "cell_type": "code",
   "execution_count": null,
   "metadata": {},
   "outputs": [],
   "source": []
  },
  {
   "cell_type": "code",
   "execution_count": 181,
   "metadata": {},
   "outputs": [
    {
     "data": {
      "text/html": [
       "<div>\n",
       "<style scoped>\n",
       "    .dataframe tbody tr th:only-of-type {\n",
       "        vertical-align: middle;\n",
       "    }\n",
       "\n",
       "    .dataframe tbody tr th {\n",
       "        vertical-align: top;\n",
       "    }\n",
       "\n",
       "    .dataframe thead th {\n",
       "        text-align: right;\n",
       "    }\n",
       "</style>\n",
       "<table border=\"1\" class=\"dataframe\">\n",
       "  <thead>\n",
       "    <tr style=\"text-align: right;\">\n",
       "      <th></th>\n",
       "      <th>Willingness to spend</th>\n",
       "      <th>Admission rate</th>\n",
       "      <th>College Expenses</th>\n",
       "      <th>Faculty</th>\n",
       "      <th>Competition</th>\n",
       "      <th>Student Pool</th>\n",
       "    </tr>\n",
       "  </thead>\n",
       "  <tbody>\n",
       "    <tr>\n",
       "      <th>Apps</th>\n",
       "      <td>0.248766</td>\n",
       "      <td>0.331598</td>\n",
       "      <td>-0.063092</td>\n",
       "      <td>0.281311</td>\n",
       "      <td>0.005741</td>\n",
       "      <td>-0.016237</td>\n",
       "    </tr>\n",
       "    <tr>\n",
       "      <th>Accept</th>\n",
       "      <td>0.207602</td>\n",
       "      <td>0.372117</td>\n",
       "      <td>-0.101249</td>\n",
       "      <td>0.267817</td>\n",
       "      <td>0.055786</td>\n",
       "      <td>0.007535</td>\n",
       "    </tr>\n",
       "    <tr>\n",
       "      <th>Enroll</th>\n",
       "      <td>0.176304</td>\n",
       "      <td>0.403724</td>\n",
       "      <td>-0.082986</td>\n",
       "      <td>0.161827</td>\n",
       "      <td>-0.055694</td>\n",
       "      <td>-0.042558</td>\n",
       "    </tr>\n",
       "    <tr>\n",
       "      <th>Top10perc</th>\n",
       "      <td>0.354274</td>\n",
       "      <td>-0.082412</td>\n",
       "      <td>0.035056</td>\n",
       "      <td>-0.051547</td>\n",
       "      <td>-0.395434</td>\n",
       "      <td>-0.052693</td>\n",
       "    </tr>\n",
       "    <tr>\n",
       "      <th>Top25perc</th>\n",
       "      <td>0.344001</td>\n",
       "      <td>-0.044779</td>\n",
       "      <td>-0.024148</td>\n",
       "      <td>-0.109767</td>\n",
       "      <td>-0.426534</td>\n",
       "      <td>0.033092</td>\n",
       "    </tr>\n",
       "    <tr>\n",
       "      <th>F.Undergrad</th>\n",
       "      <td>0.154641</td>\n",
       "      <td>0.417674</td>\n",
       "      <td>-0.061393</td>\n",
       "      <td>0.100412</td>\n",
       "      <td>-0.043454</td>\n",
       "      <td>-0.043454</td>\n",
       "    </tr>\n",
       "    <tr>\n",
       "      <th>P.Undergrad</th>\n",
       "      <td>0.026443</td>\n",
       "      <td>0.315088</td>\n",
       "      <td>0.139682</td>\n",
       "      <td>-0.158558</td>\n",
       "      <td>0.302385</td>\n",
       "      <td>-0.191199</td>\n",
       "    </tr>\n",
       "    <tr>\n",
       "      <th>Outstate</th>\n",
       "      <td>0.294736</td>\n",
       "      <td>-0.249644</td>\n",
       "      <td>0.046599</td>\n",
       "      <td>0.131291</td>\n",
       "      <td>0.222532</td>\n",
       "      <td>-0.030000</td>\n",
       "    </tr>\n",
       "    <tr>\n",
       "      <th>Room.Board</th>\n",
       "      <td>0.249030</td>\n",
       "      <td>-0.137809</td>\n",
       "      <td>0.148967</td>\n",
       "      <td>0.184996</td>\n",
       "      <td>0.560919</td>\n",
       "      <td>0.162755</td>\n",
       "    </tr>\n",
       "    <tr>\n",
       "      <th>Books</th>\n",
       "      <td>0.064758</td>\n",
       "      <td>0.056342</td>\n",
       "      <td>0.677412</td>\n",
       "      <td>0.087089</td>\n",
       "      <td>-0.127289</td>\n",
       "      <td>0.641055</td>\n",
       "    </tr>\n",
       "    <tr>\n",
       "      <th>Personal</th>\n",
       "      <td>-0.042529</td>\n",
       "      <td>0.219929</td>\n",
       "      <td>0.499721</td>\n",
       "      <td>-0.230711</td>\n",
       "      <td>-0.222311</td>\n",
       "      <td>-0.331398</td>\n",
       "    </tr>\n",
       "    <tr>\n",
       "      <th>PhD</th>\n",
       "      <td>0.318313</td>\n",
       "      <td>0.058311</td>\n",
       "      <td>-0.127028</td>\n",
       "      <td>-0.534725</td>\n",
       "      <td>0.140166</td>\n",
       "      <td>0.091256</td>\n",
       "    </tr>\n",
       "    <tr>\n",
       "      <th>Terminal</th>\n",
       "      <td>0.317056</td>\n",
       "      <td>0.046429</td>\n",
       "      <td>-0.066038</td>\n",
       "      <td>-0.519443</td>\n",
       "      <td>0.204720</td>\n",
       "      <td>0.154928</td>\n",
       "    </tr>\n",
       "    <tr>\n",
       "      <th>S.F.Ratio</th>\n",
       "      <td>-0.176958</td>\n",
       "      <td>0.246665</td>\n",
       "      <td>-0.289848</td>\n",
       "      <td>-0.161189</td>\n",
       "      <td>-0.079388</td>\n",
       "      <td>0.487046</td>\n",
       "    </tr>\n",
       "    <tr>\n",
       "      <th>perc.alumni</th>\n",
       "      <td>0.205082</td>\n",
       "      <td>-0.246595</td>\n",
       "      <td>-0.146989</td>\n",
       "      <td>0.017314</td>\n",
       "      <td>-0.216297</td>\n",
       "      <td>-0.047340</td>\n",
       "    </tr>\n",
       "    <tr>\n",
       "      <th>Expend</th>\n",
       "      <td>0.318909</td>\n",
       "      <td>-0.131690</td>\n",
       "      <td>0.226744</td>\n",
       "      <td>0.079273</td>\n",
       "      <td>0.075958</td>\n",
       "      <td>-0.298119</td>\n",
       "    </tr>\n",
       "    <tr>\n",
       "      <th>Grad.Rate</th>\n",
       "      <td>0.252316</td>\n",
       "      <td>-0.169241</td>\n",
       "      <td>-0.208065</td>\n",
       "      <td>0.269129</td>\n",
       "      <td>-0.109268</td>\n",
       "      <td>0.216163</td>\n",
       "    </tr>\n",
       "  </tbody>\n",
       "</table>\n",
       "</div>"
      ],
      "text/plain": [
       "             Willingness to spend  Admission rate  College Expenses   Faculty  \\\n",
       "Apps                     0.248766        0.331598         -0.063092  0.281311   \n",
       "Accept                   0.207602        0.372117         -0.101249  0.267817   \n",
       "Enroll                   0.176304        0.403724         -0.082986  0.161827   \n",
       "Top10perc                0.354274       -0.082412          0.035056 -0.051547   \n",
       "Top25perc                0.344001       -0.044779         -0.024148 -0.109767   \n",
       "F.Undergrad              0.154641        0.417674         -0.061393  0.100412   \n",
       "P.Undergrad              0.026443        0.315088          0.139682 -0.158558   \n",
       "Outstate                 0.294736       -0.249644          0.046599  0.131291   \n",
       "Room.Board               0.249030       -0.137809          0.148967  0.184996   \n",
       "Books                    0.064758        0.056342          0.677412  0.087089   \n",
       "Personal                -0.042529        0.219929          0.499721 -0.230711   \n",
       "PhD                      0.318313        0.058311         -0.127028 -0.534725   \n",
       "Terminal                 0.317056        0.046429         -0.066038 -0.519443   \n",
       "S.F.Ratio               -0.176958        0.246665         -0.289848 -0.161189   \n",
       "perc.alumni              0.205082       -0.246595         -0.146989  0.017314   \n",
       "Expend                   0.318909       -0.131690          0.226744  0.079273   \n",
       "Grad.Rate                0.252316       -0.169241         -0.208065  0.269129   \n",
       "\n",
       "             Competition  Student Pool  \n",
       "Apps            0.005741     -0.016237  \n",
       "Accept          0.055786      0.007535  \n",
       "Enroll         -0.055694     -0.042558  \n",
       "Top10perc      -0.395434     -0.052693  \n",
       "Top25perc      -0.426534      0.033092  \n",
       "F.Undergrad    -0.043454     -0.043454  \n",
       "P.Undergrad     0.302385     -0.191199  \n",
       "Outstate        0.222532     -0.030000  \n",
       "Room.Board      0.560919      0.162755  \n",
       "Books          -0.127289      0.641055  \n",
       "Personal       -0.222311     -0.331398  \n",
       "PhD             0.140166      0.091256  \n",
       "Terminal        0.204720      0.154928  \n",
       "S.F.Ratio      -0.079388      0.487046  \n",
       "perc.alumni    -0.216297     -0.047340  \n",
       "Expend          0.075958     -0.298119  \n",
       "Grad.Rate      -0.109268      0.216163  "
      ]
     },
     "execution_count": 181,
     "metadata": {},
     "output_type": "execute_result"
    }
   ],
   "source": [
    "df_pca_loading = pd.DataFrame(pca.components_,columns=list(df_num_scaled),index=['Willingness to spend','Admission rate','College Expenses','Faculty','Competition',\n",
    "                                  'Student Pool'])\n",
    "df_pca_loading.T"
   ]
  },
  {
   "cell_type": "code",
   "execution_count": null,
   "metadata": {},
   "outputs": [],
   "source": []
  },
  {
   "cell_type": "code",
   "execution_count": 156,
   "metadata": {},
   "outputs": [
    {
     "data": {
      "text/html": [
       "<div>\n",
       "<style scoped>\n",
       "    .dataframe tbody tr th:only-of-type {\n",
       "        vertical-align: middle;\n",
       "    }\n",
       "\n",
       "    .dataframe tbody tr th {\n",
       "        vertical-align: top;\n",
       "    }\n",
       "\n",
       "    .dataframe thead th {\n",
       "        text-align: right;\n",
       "    }\n",
       "</style>\n",
       "<table border=\"1\" class=\"dataframe\">\n",
       "  <thead>\n",
       "    <tr style=\"text-align: right;\">\n",
       "      <th></th>\n",
       "      <th>Apps</th>\n",
       "      <th>Accept</th>\n",
       "      <th>Enroll</th>\n",
       "      <th>Top10perc</th>\n",
       "      <th>Top25perc</th>\n",
       "      <th>F.Undergrad</th>\n",
       "      <th>P.Undergrad</th>\n",
       "      <th>Outstate</th>\n",
       "      <th>Room.Board</th>\n",
       "      <th>Books</th>\n",
       "      <th>Personal</th>\n",
       "      <th>PhD</th>\n",
       "      <th>Terminal</th>\n",
       "      <th>S.F.Ratio</th>\n",
       "      <th>perc.alumni</th>\n",
       "      <th>Expend</th>\n",
       "      <th>Grad.Rate</th>\n",
       "    </tr>\n",
       "  </thead>\n",
       "  <tbody>\n",
       "    <tr>\n",
       "      <th>0</th>\n",
       "      <td>0.248766</td>\n",
       "      <td>0.207602</td>\n",
       "      <td>0.176304</td>\n",
       "      <td>0.354274</td>\n",
       "      <td>0.344001</td>\n",
       "      <td>0.154641</td>\n",
       "      <td>0.026443</td>\n",
       "      <td>0.294736</td>\n",
       "      <td>0.249030</td>\n",
       "      <td>0.064758</td>\n",
       "      <td>-0.042529</td>\n",
       "      <td>0.318313</td>\n",
       "      <td>0.317056</td>\n",
       "      <td>-0.176958</td>\n",
       "      <td>0.205082</td>\n",
       "      <td>0.318909</td>\n",
       "      <td>0.252316</td>\n",
       "    </tr>\n",
       "    <tr>\n",
       "      <th>1</th>\n",
       "      <td>0.331598</td>\n",
       "      <td>0.372117</td>\n",
       "      <td>0.403724</td>\n",
       "      <td>-0.082412</td>\n",
       "      <td>-0.044779</td>\n",
       "      <td>0.417674</td>\n",
       "      <td>0.315088</td>\n",
       "      <td>-0.249644</td>\n",
       "      <td>-0.137809</td>\n",
       "      <td>0.056342</td>\n",
       "      <td>0.219929</td>\n",
       "      <td>0.058311</td>\n",
       "      <td>0.046429</td>\n",
       "      <td>0.246665</td>\n",
       "      <td>-0.246595</td>\n",
       "      <td>-0.131690</td>\n",
       "      <td>-0.169241</td>\n",
       "    </tr>\n",
       "    <tr>\n",
       "      <th>2</th>\n",
       "      <td>-0.063092</td>\n",
       "      <td>-0.101249</td>\n",
       "      <td>-0.082986</td>\n",
       "      <td>0.035056</td>\n",
       "      <td>-0.024148</td>\n",
       "      <td>-0.061393</td>\n",
       "      <td>0.139682</td>\n",
       "      <td>0.046599</td>\n",
       "      <td>0.148967</td>\n",
       "      <td>0.677412</td>\n",
       "      <td>0.499721</td>\n",
       "      <td>-0.127028</td>\n",
       "      <td>-0.066038</td>\n",
       "      <td>-0.289848</td>\n",
       "      <td>-0.146989</td>\n",
       "      <td>0.226744</td>\n",
       "      <td>-0.208065</td>\n",
       "    </tr>\n",
       "    <tr>\n",
       "      <th>3</th>\n",
       "      <td>0.281311</td>\n",
       "      <td>0.267817</td>\n",
       "      <td>0.161827</td>\n",
       "      <td>-0.051547</td>\n",
       "      <td>-0.109767</td>\n",
       "      <td>0.100412</td>\n",
       "      <td>-0.158558</td>\n",
       "      <td>0.131291</td>\n",
       "      <td>0.184996</td>\n",
       "      <td>0.087089</td>\n",
       "      <td>-0.230711</td>\n",
       "      <td>-0.534725</td>\n",
       "      <td>-0.519443</td>\n",
       "      <td>-0.161189</td>\n",
       "      <td>0.017314</td>\n",
       "      <td>0.079273</td>\n",
       "      <td>0.269129</td>\n",
       "    </tr>\n",
       "    <tr>\n",
       "      <th>4</th>\n",
       "      <td>0.005741</td>\n",
       "      <td>0.055786</td>\n",
       "      <td>-0.055694</td>\n",
       "      <td>-0.395434</td>\n",
       "      <td>-0.426534</td>\n",
       "      <td>-0.043454</td>\n",
       "      <td>0.302385</td>\n",
       "      <td>0.222532</td>\n",
       "      <td>0.560919</td>\n",
       "      <td>-0.127289</td>\n",
       "      <td>-0.222311</td>\n",
       "      <td>0.140166</td>\n",
       "      <td>0.204720</td>\n",
       "      <td>-0.079388</td>\n",
       "      <td>-0.216297</td>\n",
       "      <td>0.075958</td>\n",
       "      <td>-0.109268</td>\n",
       "    </tr>\n",
       "    <tr>\n",
       "      <th>5</th>\n",
       "      <td>-0.016237</td>\n",
       "      <td>0.007535</td>\n",
       "      <td>-0.042558</td>\n",
       "      <td>-0.052693</td>\n",
       "      <td>0.033092</td>\n",
       "      <td>-0.043454</td>\n",
       "      <td>-0.191199</td>\n",
       "      <td>-0.030000</td>\n",
       "      <td>0.162755</td>\n",
       "      <td>0.641055</td>\n",
       "      <td>-0.331398</td>\n",
       "      <td>0.091256</td>\n",
       "      <td>0.154928</td>\n",
       "      <td>0.487046</td>\n",
       "      <td>-0.047340</td>\n",
       "      <td>-0.298119</td>\n",
       "      <td>0.216163</td>\n",
       "    </tr>\n",
       "  </tbody>\n",
       "</table>\n",
       "</div>"
      ],
      "text/plain": [
       "       Apps    Accept    Enroll  Top10perc  Top25perc  F.Undergrad  \\\n",
       "0  0.248766  0.207602  0.176304   0.354274   0.344001     0.154641   \n",
       "1  0.331598  0.372117  0.403724  -0.082412  -0.044779     0.417674   \n",
       "2 -0.063092 -0.101249 -0.082986   0.035056  -0.024148    -0.061393   \n",
       "3  0.281311  0.267817  0.161827  -0.051547  -0.109767     0.100412   \n",
       "4  0.005741  0.055786 -0.055694  -0.395434  -0.426534    -0.043454   \n",
       "5 -0.016237  0.007535 -0.042558  -0.052693   0.033092    -0.043454   \n",
       "\n",
       "   P.Undergrad  Outstate  Room.Board     Books  Personal       PhD  Terminal  \\\n",
       "0     0.026443  0.294736    0.249030  0.064758 -0.042529  0.318313  0.317056   \n",
       "1     0.315088 -0.249644   -0.137809  0.056342  0.219929  0.058311  0.046429   \n",
       "2     0.139682  0.046599    0.148967  0.677412  0.499721 -0.127028 -0.066038   \n",
       "3    -0.158558  0.131291    0.184996  0.087089 -0.230711 -0.534725 -0.519443   \n",
       "4     0.302385  0.222532    0.560919 -0.127289 -0.222311  0.140166  0.204720   \n",
       "5    -0.191199 -0.030000    0.162755  0.641055 -0.331398  0.091256  0.154928   \n",
       "\n",
       "   S.F.Ratio  perc.alumni    Expend  Grad.Rate  \n",
       "0  -0.176958     0.205082  0.318909   0.252316  \n",
       "1   0.246665    -0.246595 -0.131690  -0.169241  \n",
       "2  -0.289848    -0.146989  0.226744  -0.208065  \n",
       "3  -0.161189     0.017314  0.079273   0.269129  \n",
       "4  -0.079388    -0.216297  0.075958  -0.109268  \n",
       "5   0.487046    -0.047340 -0.298119   0.216163  "
      ]
     },
     "execution_count": 156,
     "metadata": {},
     "output_type": "execute_result"
    }
   ],
   "source": [
    "df_pca_loading.head(8)"
   ]
  },
  {
   "cell_type": "code",
   "execution_count": 157,
   "metadata": {},
   "outputs": [],
   "source": [
    "from matplotlib.patches import Rectangle"
   ]
  },
  {
   "cell_type": "code",
   "execution_count": null,
   "metadata": {},
   "outputs": [],
   "source": []
  },
  {
   "cell_type": "code",
   "execution_count": 159,
   "metadata": {},
   "outputs": [
    {
     "data": {
      "image/png": "[encoded data removed]",
      "text/plain": [
       "<Figure size 1584x720 with 1 Axes>"
      ]
     },
     "metadata": {},
     "output_type": "display_data"
    }
   ],
   "source": [
    "fig,ax = plt.subplots(figsize=(22, 10), facecolor='w', edgecolor='k')\n",
    "ax = sns.heatmap(df_pca_loading, annot=True, vmax=1.0, vmin=0, cmap='Blues', cbar=False, fmt='.2g', ax=ax,\n",
    "                 yticklabels=['PC1','PC2','PC3','PC4','PC5','PC6'])\n",
    "\n",
    "column_max = df_pca_loading.abs().idxmax(axis=0)\n",
    "\n",
    "for col, variable in enumerate(df_pca_loading.columns):\n",
    "    position = df_pca_loading.index.get_loc(column_max[variable])\n",
    "    ax.add_patch(Rectangle((col, position),1,1, fill=False, edgecolor='red', lw=3))"
   ]
  },
  {
   "cell_type": "code",
   "execution_count": 161,
   "metadata": {},
   "outputs": [
    {
     "data": {
      "text/html": [
       "<div>\n",
       "<style scoped>\n",
       "    .dataframe tbody tr th:only-of-type {\n",
       "        vertical-align: middle;\n",
       "    }\n",
       "\n",
       "    .dataframe tbody tr th {\n",
       "        vertical-align: top;\n",
       "    }\n",
       "\n",
       "    .dataframe thead th {\n",
       "        text-align: right;\n",
       "    }\n",
       "</style>\n",
       "<table border=\"1\" class=\"dataframe\">\n",
       "  <thead>\n",
       "    <tr style=\"text-align: right;\">\n",
       "      <th></th>\n",
       "      <th>Willingness to spend</th>\n",
       "      <th>Admission rate</th>\n",
       "      <th>College Expenses</th>\n",
       "      <th>Faculty</th>\n",
       "      <th>Competition</th>\n",
       "      <th>Student Pool</th>\n",
       "    </tr>\n",
       "  </thead>\n",
       "  <tbody>\n",
       "    <tr>\n",
       "      <th>0</th>\n",
       "      <td>-1.592855</td>\n",
       "      <td>0.767334</td>\n",
       "      <td>-0.101074</td>\n",
       "      <td>-0.921749</td>\n",
       "      <td>-0.743975</td>\n",
       "      <td>-0.298306</td>\n",
       "    </tr>\n",
       "    <tr>\n",
       "      <th>1</th>\n",
       "      <td>-2.192402</td>\n",
       "      <td>-0.578830</td>\n",
       "      <td>2.278798</td>\n",
       "      <td>3.588918</td>\n",
       "      <td>1.059997</td>\n",
       "      <td>-0.177137</td>\n",
       "    </tr>\n",
       "    <tr>\n",
       "      <th>2</th>\n",
       "      <td>-1.430964</td>\n",
       "      <td>-1.092819</td>\n",
       "      <td>-0.438093</td>\n",
       "      <td>0.677241</td>\n",
       "      <td>-0.369613</td>\n",
       "      <td>-0.960592</td>\n",
       "    </tr>\n",
       "    <tr>\n",
       "      <th>3</th>\n",
       "      <td>2.855557</td>\n",
       "      <td>-2.630612</td>\n",
       "      <td>0.141722</td>\n",
       "      <td>-1.295486</td>\n",
       "      <td>-0.183837</td>\n",
       "      <td>-1.059508</td>\n",
       "    </tr>\n",
       "    <tr>\n",
       "      <th>4</th>\n",
       "      <td>-2.212008</td>\n",
       "      <td>0.021631</td>\n",
       "      <td>2.387030</td>\n",
       "      <td>-1.114538</td>\n",
       "      <td>0.684451</td>\n",
       "      <td>0.004918</td>\n",
       "    </tr>\n",
       "    <tr>\n",
       "      <th>...</th>\n",
       "      <td>...</td>\n",
       "      <td>...</td>\n",
       "      <td>...</td>\n",
       "      <td>...</td>\n",
       "      <td>...</td>\n",
       "      <td>...</td>\n",
       "    </tr>\n",
       "    <tr>\n",
       "      <th>772</th>\n",
       "      <td>-3.328458</td>\n",
       "      <td>1.220255</td>\n",
       "      <td>-0.383388</td>\n",
       "      <td>0.108555</td>\n",
       "      <td>0.776996</td>\n",
       "      <td>0.309429</td>\n",
       "    </tr>\n",
       "    <tr>\n",
       "      <th>773</th>\n",
       "      <td>0.199389</td>\n",
       "      <td>-0.686689</td>\n",
       "      <td>0.051563</td>\n",
       "      <td>0.562269</td>\n",
       "      <td>0.375191</td>\n",
       "      <td>0.373343</td>\n",
       "    </tr>\n",
       "    <tr>\n",
       "      <th>774</th>\n",
       "      <td>-0.732561</td>\n",
       "      <td>-0.077235</td>\n",
       "      <td>-0.000406</td>\n",
       "      <td>0.054316</td>\n",
       "      <td>-0.516021</td>\n",
       "      <td>0.468014</td>\n",
       "    </tr>\n",
       "    <tr>\n",
       "      <th>775</th>\n",
       "      <td>7.919327</td>\n",
       "      <td>-2.068329</td>\n",
       "      <td>2.073564</td>\n",
       "      <td>0.852054</td>\n",
       "      <td>-0.947755</td>\n",
       "      <td>-2.069937</td>\n",
       "    </tr>\n",
       "    <tr>\n",
       "      <th>776</th>\n",
       "      <td>-0.469508</td>\n",
       "      <td>0.366661</td>\n",
       "      <td>-1.328915</td>\n",
       "      <td>-0.108022</td>\n",
       "      <td>-1.132176</td>\n",
       "      <td>0.839893</td>\n",
       "    </tr>\n",
       "  </tbody>\n",
       "</table>\n",
       "<p>777 rows × 6 columns</p>\n",
       "</div>"
      ],
      "text/plain": [
       "     Willingness to spend  Admission rate  College Expenses   Faculty  \\\n",
       "0               -1.592855        0.767334         -0.101074 -0.921749   \n",
       "1               -2.192402       -0.578830          2.278798  3.588918   \n",
       "2               -1.430964       -1.092819         -0.438093  0.677241   \n",
       "3                2.855557       -2.630612          0.141722 -1.295486   \n",
       "4               -2.212008        0.021631          2.387030 -1.114538   \n",
       "..                    ...             ...               ...       ...   \n",
       "772             -3.328458        1.220255         -0.383388  0.108555   \n",
       "773              0.199389       -0.686689          0.051563  0.562269   \n",
       "774             -0.732561       -0.077235         -0.000406  0.054316   \n",
       "775              7.919327       -2.068329          2.073564  0.852054   \n",
       "776             -0.469508        0.366661         -1.328915 -0.108022   \n",
       "\n",
       "     Competition  Student Pool  \n",
       "0      -0.743975     -0.298306  \n",
       "1       1.059997     -0.177137  \n",
       "2      -0.369613     -0.960592  \n",
       "3      -0.183837     -1.059508  \n",
       "4       0.684451      0.004918  \n",
       "..           ...           ...  \n",
       "772     0.776996      0.309429  \n",
       "773     0.375191      0.373343  \n",
       "774    -0.516021      0.468014  \n",
       "775    -0.947755     -2.069937  \n",
       "776    -1.132176      0.839893  \n",
       "\n",
       "[777 rows x 6 columns]"
      ]
     },
     "execution_count": 161,
     "metadata": {},
     "output_type": "execute_result"
    }
   ],
   "source": [
    "df_pca = pd.DataFrame(df_pca,columns=['Willingness to spend','Admission rate','College Expenses','Faculty','Competition',\n",
    "                                  'Student Pool'])\n",
    "df_pca"
   ]
  },
  {
   "cell_type": "code",
   "execution_count": 162,
   "metadata": {},
   "outputs": [
    {
     "data": {
      "text/html": [
       "<div>\n",
       "<style scoped>\n",
       "    .dataframe tbody tr th:only-of-type {\n",
       "        vertical-align: middle;\n",
       "    }\n",
       "\n",
       "    .dataframe tbody tr th {\n",
       "        vertical-align: top;\n",
       "    }\n",
       "\n",
       "    .dataframe thead th {\n",
       "        text-align: right;\n",
       "    }\n",
       "</style>\n",
       "<table border=\"1\" class=\"dataframe\">\n",
       "  <thead>\n",
       "    <tr style=\"text-align: right;\">\n",
       "      <th></th>\n",
       "      <th>Names</th>\n",
       "      <th>Apps</th>\n",
       "      <th>Accept</th>\n",
       "      <th>Enroll</th>\n",
       "      <th>Top10perc</th>\n",
       "      <th>Top25perc</th>\n",
       "      <th>F.Undergrad</th>\n",
       "      <th>P.Undergrad</th>\n",
       "      <th>Outstate</th>\n",
       "      <th>Room.Board</th>\n",
       "      <th>...</th>\n",
       "      <th>S.F.Ratio</th>\n",
       "      <th>perc.alumni</th>\n",
       "      <th>Expend</th>\n",
       "      <th>Grad.Rate</th>\n",
       "      <th>Willingness to spend</th>\n",
       "      <th>Admission rate</th>\n",
       "      <th>College Expenses</th>\n",
       "      <th>Faculty</th>\n",
       "      <th>Competition</th>\n",
       "      <th>Student Pool</th>\n",
       "    </tr>\n",
       "  </thead>\n",
       "  <tbody>\n",
       "    <tr>\n",
       "      <th>0</th>\n",
       "      <td>Abilene Christian University</td>\n",
       "      <td>1660</td>\n",
       "      <td>1232</td>\n",
       "      <td>721</td>\n",
       "      <td>23</td>\n",
       "      <td>52</td>\n",
       "      <td>2885</td>\n",
       "      <td>537</td>\n",
       "      <td>7440</td>\n",
       "      <td>3300</td>\n",
       "      <td>...</td>\n",
       "      <td>18.1</td>\n",
       "      <td>12</td>\n",
       "      <td>7041</td>\n",
       "      <td>60</td>\n",
       "      <td>-1.592855</td>\n",
       "      <td>0.767334</td>\n",
       "      <td>-0.101074</td>\n",
       "      <td>-0.921749</td>\n",
       "      <td>-0.743975</td>\n",
       "      <td>-0.298306</td>\n",
       "    </tr>\n",
       "    <tr>\n",
       "      <th>1</th>\n",
       "      <td>Adelphi University</td>\n",
       "      <td>2186</td>\n",
       "      <td>1924</td>\n",
       "      <td>512</td>\n",
       "      <td>16</td>\n",
       "      <td>29</td>\n",
       "      <td>2683</td>\n",
       "      <td>1227</td>\n",
       "      <td>12280</td>\n",
       "      <td>6450</td>\n",
       "      <td>...</td>\n",
       "      <td>12.2</td>\n",
       "      <td>16</td>\n",
       "      <td>10527</td>\n",
       "      <td>56</td>\n",
       "      <td>-2.192402</td>\n",
       "      <td>-0.578830</td>\n",
       "      <td>2.278798</td>\n",
       "      <td>3.588918</td>\n",
       "      <td>1.059997</td>\n",
       "      <td>-0.177137</td>\n",
       "    </tr>\n",
       "    <tr>\n",
       "      <th>2</th>\n",
       "      <td>Adrian College</td>\n",
       "      <td>1428</td>\n",
       "      <td>1097</td>\n",
       "      <td>336</td>\n",
       "      <td>22</td>\n",
       "      <td>50</td>\n",
       "      <td>1036</td>\n",
       "      <td>99</td>\n",
       "      <td>11250</td>\n",
       "      <td>3750</td>\n",
       "      <td>...</td>\n",
       "      <td>12.9</td>\n",
       "      <td>30</td>\n",
       "      <td>8735</td>\n",
       "      <td>54</td>\n",
       "      <td>-1.430964</td>\n",
       "      <td>-1.092819</td>\n",
       "      <td>-0.438093</td>\n",
       "      <td>0.677241</td>\n",
       "      <td>-0.369613</td>\n",
       "      <td>-0.960592</td>\n",
       "    </tr>\n",
       "    <tr>\n",
       "      <th>3</th>\n",
       "      <td>Agnes Scott College</td>\n",
       "      <td>417</td>\n",
       "      <td>349</td>\n",
       "      <td>137</td>\n",
       "      <td>60</td>\n",
       "      <td>89</td>\n",
       "      <td>510</td>\n",
       "      <td>63</td>\n",
       "      <td>12960</td>\n",
       "      <td>5450</td>\n",
       "      <td>...</td>\n",
       "      <td>7.7</td>\n",
       "      <td>37</td>\n",
       "      <td>19016</td>\n",
       "      <td>59</td>\n",
       "      <td>2.855557</td>\n",
       "      <td>-2.630612</td>\n",
       "      <td>0.141722</td>\n",
       "      <td>-1.295486</td>\n",
       "      <td>-0.183837</td>\n",
       "      <td>-1.059508</td>\n",
       "    </tr>\n",
       "    <tr>\n",
       "      <th>4</th>\n",
       "      <td>Alaska Pacific University</td>\n",
       "      <td>193</td>\n",
       "      <td>146</td>\n",
       "      <td>55</td>\n",
       "      <td>16</td>\n",
       "      <td>44</td>\n",
       "      <td>249</td>\n",
       "      <td>869</td>\n",
       "      <td>7560</td>\n",
       "      <td>4120</td>\n",
       "      <td>...</td>\n",
       "      <td>11.9</td>\n",
       "      <td>2</td>\n",
       "      <td>10922</td>\n",
       "      <td>15</td>\n",
       "      <td>-2.212008</td>\n",
       "      <td>0.021631</td>\n",
       "      <td>2.387030</td>\n",
       "      <td>-1.114538</td>\n",
       "      <td>0.684451</td>\n",
       "      <td>0.004918</td>\n",
       "    </tr>\n",
       "    <tr>\n",
       "      <th>...</th>\n",
       "      <td>...</td>\n",
       "      <td>...</td>\n",
       "      <td>...</td>\n",
       "      <td>...</td>\n",
       "      <td>...</td>\n",
       "      <td>...</td>\n",
       "      <td>...</td>\n",
       "      <td>...</td>\n",
       "      <td>...</td>\n",
       "      <td>...</td>\n",
       "      <td>...</td>\n",
       "      <td>...</td>\n",
       "      <td>...</td>\n",
       "      <td>...</td>\n",
       "      <td>...</td>\n",
       "      <td>...</td>\n",
       "      <td>...</td>\n",
       "      <td>...</td>\n",
       "      <td>...</td>\n",
       "      <td>...</td>\n",
       "      <td>...</td>\n",
       "    </tr>\n",
       "    <tr>\n",
       "      <th>772</th>\n",
       "      <td>Worcester State College</td>\n",
       "      <td>2197</td>\n",
       "      <td>1515</td>\n",
       "      <td>543</td>\n",
       "      <td>4</td>\n",
       "      <td>26</td>\n",
       "      <td>3089</td>\n",
       "      <td>2029</td>\n",
       "      <td>6797</td>\n",
       "      <td>3900</td>\n",
       "      <td>...</td>\n",
       "      <td>21.0</td>\n",
       "      <td>14</td>\n",
       "      <td>4469</td>\n",
       "      <td>40</td>\n",
       "      <td>-3.328458</td>\n",
       "      <td>1.220255</td>\n",
       "      <td>-0.383388</td>\n",
       "      <td>0.108555</td>\n",
       "      <td>0.776996</td>\n",
       "      <td>0.309429</td>\n",
       "    </tr>\n",
       "    <tr>\n",
       "      <th>773</th>\n",
       "      <td>Xavier University</td>\n",
       "      <td>1959</td>\n",
       "      <td>1805</td>\n",
       "      <td>695</td>\n",
       "      <td>24</td>\n",
       "      <td>47</td>\n",
       "      <td>2849</td>\n",
       "      <td>1107</td>\n",
       "      <td>11520</td>\n",
       "      <td>4960</td>\n",
       "      <td>...</td>\n",
       "      <td>13.3</td>\n",
       "      <td>31</td>\n",
       "      <td>9189</td>\n",
       "      <td>83</td>\n",
       "      <td>0.199389</td>\n",
       "      <td>-0.686689</td>\n",
       "      <td>0.051563</td>\n",
       "      <td>0.562269</td>\n",
       "      <td>0.375191</td>\n",
       "      <td>0.373343</td>\n",
       "    </tr>\n",
       "    <tr>\n",
       "      <th>774</th>\n",
       "      <td>Xavier University of Louisiana</td>\n",
       "      <td>2097</td>\n",
       "      <td>1915</td>\n",
       "      <td>695</td>\n",
       "      <td>34</td>\n",
       "      <td>61</td>\n",
       "      <td>2793</td>\n",
       "      <td>166</td>\n",
       "      <td>6900</td>\n",
       "      <td>4200</td>\n",
       "      <td>...</td>\n",
       "      <td>14.4</td>\n",
       "      <td>20</td>\n",
       "      <td>8323</td>\n",
       "      <td>49</td>\n",
       "      <td>-0.732561</td>\n",
       "      <td>-0.077235</td>\n",
       "      <td>-0.000406</td>\n",
       "      <td>0.054316</td>\n",
       "      <td>-0.516021</td>\n",
       "      <td>0.468014</td>\n",
       "    </tr>\n",
       "    <tr>\n",
       "      <th>775</th>\n",
       "      <td>Yale University</td>\n",
       "      <td>10705</td>\n",
       "      <td>2453</td>\n",
       "      <td>1317</td>\n",
       "      <td>95</td>\n",
       "      <td>99</td>\n",
       "      <td>5217</td>\n",
       "      <td>83</td>\n",
       "      <td>19840</td>\n",
       "      <td>6510</td>\n",
       "      <td>...</td>\n",
       "      <td>5.8</td>\n",
       "      <td>49</td>\n",
       "      <td>40386</td>\n",
       "      <td>99</td>\n",
       "      <td>7.919327</td>\n",
       "      <td>-2.068329</td>\n",
       "      <td>2.073564</td>\n",
       "      <td>0.852054</td>\n",
       "      <td>-0.947755</td>\n",
       "      <td>-2.069937</td>\n",
       "    </tr>\n",
       "    <tr>\n",
       "      <th>776</th>\n",
       "      <td>York College of Pennsylvania</td>\n",
       "      <td>2989</td>\n",
       "      <td>1855</td>\n",
       "      <td>691</td>\n",
       "      <td>28</td>\n",
       "      <td>63</td>\n",
       "      <td>2988</td>\n",
       "      <td>1726</td>\n",
       "      <td>4990</td>\n",
       "      <td>3560</td>\n",
       "      <td>...</td>\n",
       "      <td>18.1</td>\n",
       "      <td>28</td>\n",
       "      <td>4509</td>\n",
       "      <td>99</td>\n",
       "      <td>-0.469508</td>\n",
       "      <td>0.366661</td>\n",
       "      <td>-1.328915</td>\n",
       "      <td>-0.108022</td>\n",
       "      <td>-1.132176</td>\n",
       "      <td>0.839893</td>\n",
       "    </tr>\n",
       "  </tbody>\n",
       "</table>\n",
       "<p>777 rows × 24 columns</p>\n",
       "</div>"
      ],
      "text/plain": [
       "                              Names   Apps  Accept  Enroll  Top10perc  \\\n",
       "0      Abilene Christian University   1660    1232     721         23   \n",
       "1                Adelphi University   2186    1924     512         16   \n",
       "2                    Adrian College   1428    1097     336         22   \n",
       "3               Agnes Scott College    417     349     137         60   \n",
       "4         Alaska Pacific University    193     146      55         16   \n",
       "..                              ...    ...     ...     ...        ...   \n",
       "772         Worcester State College   2197    1515     543          4   \n",
       "773               Xavier University   1959    1805     695         24   \n",
       "774  Xavier University of Louisiana   2097    1915     695         34   \n",
       "775                 Yale University  10705    2453    1317         95   \n",
       "776    York College of Pennsylvania   2989    1855     691         28   \n",
       "\n",
       "     Top25perc  F.Undergrad  P.Undergrad  Outstate  Room.Board  ...  \\\n",
       "0           52         2885          537      7440        3300  ...   \n",
       "1           29         2683         1227     12280        6450  ...   \n",
       "2           50         1036           99     11250        3750  ...   \n",
       "3           89          510           63     12960        5450  ...   \n",
       "4           44          249          869      7560        4120  ...   \n",
       "..         ...          ...          ...       ...         ...  ...   \n",
       "772         26         3089         2029      6797        3900  ...   \n",
       "773         47         2849         1107     11520        4960  ...   \n",
       "774         61         2793          166      6900        4200  ...   \n",
       "775         99         5217           83     19840        6510  ...   \n",
       "776         63         2988         1726      4990        3560  ...   \n",
       "\n",
       "     S.F.Ratio  perc.alumni  Expend  Grad.Rate  Willingness to spend  \\\n",
       "0         18.1           12    7041         60             -1.592855   \n",
       "1         12.2           16   10527         56             -2.192402   \n",
       "2         12.9           30    8735         54             -1.430964   \n",
       "3          7.7           37   19016         59              2.855557   \n",
       "4         11.9            2   10922         15             -2.212008   \n",
       "..         ...          ...     ...        ...                   ...   \n",
       "772       21.0           14    4469         40             -3.328458   \n",
       "773       13.3           31    9189         83              0.199389   \n",
       "774       14.4           20    8323         49             -0.732561   \n",
       "775        5.8           49   40386         99              7.919327   \n",
       "776       18.1           28    4509         99             -0.469508   \n",
       "\n",
       "     Admission rate  College Expenses   Faculty  Competition  Student Pool  \n",
       "0          0.767334         -0.101074 -0.921749    -0.743975     -0.298306  \n",
       "1         -0.578830          2.278798  3.588918     1.059997     -0.177137  \n",
       "2         -1.092819         -0.438093  0.677241    -0.369613     -0.960592  \n",
       "3         -2.630612          0.141722 -1.295486    -0.183837     -1.059508  \n",
       "4          0.021631          2.387030 -1.114538     0.684451      0.004918  \n",
       "..              ...               ...       ...          ...           ...  \n",
       "772        1.220255         -0.383388  0.108555     0.776996      0.309429  \n",
       "773       -0.686689          0.051563  0.562269     0.375191      0.373343  \n",
       "774       -0.077235         -0.000406  0.054316    -0.516021      0.468014  \n",
       "775       -2.068329          2.073564  0.852054    -0.947755     -2.069937  \n",
       "776        0.366661         -1.328915 -0.108022    -1.132176      0.839893  \n",
       "\n",
       "[777 rows x 24 columns]"
      ]
     },
     "execution_count": 162,
     "metadata": {},
     "output_type": "execute_result"
    }
   ],
   "source": [
    "df_new1 = pd.concat([df, df_pca], axis=1)\n",
    "df_new1"
   ]
  },
  {
   "cell_type": "code",
   "execution_count": 163,
   "metadata": {},
   "outputs": [
    {
     "data": {
      "text/plain": [
       "['Names']"
      ]
     },
     "execution_count": 163,
     "metadata": {},
     "output_type": "execute_result"
    }
   ],
   "source": [
    "df_cat = df.select_dtypes(include = ['object'])\n",
    "lstcatcolumns = list(df_cat.columns.values)\n",
    "lstcatcolumns"
   ]
  },
  {
   "cell_type": "code",
   "execution_count": 164,
   "metadata": {},
   "outputs": [
    {
     "data": {
      "text/html": [
       "<div>\n",
       "<style scoped>\n",
       "    .dataframe tbody tr th:only-of-type {\n",
       "        vertical-align: middle;\n",
       "    }\n",
       "\n",
       "    .dataframe tbody tr th {\n",
       "        vertical-align: top;\n",
       "    }\n",
       "\n",
       "    .dataframe thead th {\n",
       "        text-align: right;\n",
       "    }\n",
       "</style>\n",
       "<table border=\"1\" class=\"dataframe\">\n",
       "  <thead>\n",
       "    <tr style=\"text-align: right;\">\n",
       "      <th></th>\n",
       "      <th>Names</th>\n",
       "      <th>Willingness to spend</th>\n",
       "      <th>Admission rate</th>\n",
       "      <th>College Expenses</th>\n",
       "      <th>Faculty</th>\n",
       "      <th>Competition</th>\n",
       "      <th>Student Pool</th>\n",
       "    </tr>\n",
       "  </thead>\n",
       "  <tbody>\n",
       "    <tr>\n",
       "      <th>0</th>\n",
       "      <td>Abilene Christian University</td>\n",
       "      <td>-1.592855</td>\n",
       "      <td>0.767334</td>\n",
       "      <td>-0.101074</td>\n",
       "      <td>-0.921749</td>\n",
       "      <td>-0.743975</td>\n",
       "      <td>-0.298306</td>\n",
       "    </tr>\n",
       "    <tr>\n",
       "      <th>1</th>\n",
       "      <td>Adelphi University</td>\n",
       "      <td>-2.192402</td>\n",
       "      <td>-0.578830</td>\n",
       "      <td>2.278798</td>\n",
       "      <td>3.588918</td>\n",
       "      <td>1.059997</td>\n",
       "      <td>-0.177137</td>\n",
       "    </tr>\n",
       "    <tr>\n",
       "      <th>2</th>\n",
       "      <td>Adrian College</td>\n",
       "      <td>-1.430964</td>\n",
       "      <td>-1.092819</td>\n",
       "      <td>-0.438093</td>\n",
       "      <td>0.677241</td>\n",
       "      <td>-0.369613</td>\n",
       "      <td>-0.960592</td>\n",
       "    </tr>\n",
       "    <tr>\n",
       "      <th>3</th>\n",
       "      <td>Agnes Scott College</td>\n",
       "      <td>2.855557</td>\n",
       "      <td>-2.630612</td>\n",
       "      <td>0.141722</td>\n",
       "      <td>-1.295486</td>\n",
       "      <td>-0.183837</td>\n",
       "      <td>-1.059508</td>\n",
       "    </tr>\n",
       "    <tr>\n",
       "      <th>4</th>\n",
       "      <td>Alaska Pacific University</td>\n",
       "      <td>-2.212008</td>\n",
       "      <td>0.021631</td>\n",
       "      <td>2.387030</td>\n",
       "      <td>-1.114538</td>\n",
       "      <td>0.684451</td>\n",
       "      <td>0.004918</td>\n",
       "    </tr>\n",
       "    <tr>\n",
       "      <th>...</th>\n",
       "      <td>...</td>\n",
       "      <td>...</td>\n",
       "      <td>...</td>\n",
       "      <td>...</td>\n",
       "      <td>...</td>\n",
       "      <td>...</td>\n",
       "      <td>...</td>\n",
       "    </tr>\n",
       "    <tr>\n",
       "      <th>772</th>\n",
       "      <td>Worcester State College</td>\n",
       "      <td>-3.328458</td>\n",
       "      <td>1.220255</td>\n",
       "      <td>-0.383388</td>\n",
       "      <td>0.108555</td>\n",
       "      <td>0.776996</td>\n",
       "      <td>0.309429</td>\n",
       "    </tr>\n",
       "    <tr>\n",
       "      <th>773</th>\n",
       "      <td>Xavier University</td>\n",
       "      <td>0.199389</td>\n",
       "      <td>-0.686689</td>\n",
       "      <td>0.051563</td>\n",
       "      <td>0.562269</td>\n",
       "      <td>0.375191</td>\n",
       "      <td>0.373343</td>\n",
       "    </tr>\n",
       "    <tr>\n",
       "      <th>774</th>\n",
       "      <td>Xavier University of Louisiana</td>\n",
       "      <td>-0.732561</td>\n",
       "      <td>-0.077235</td>\n",
       "      <td>-0.000406</td>\n",
       "      <td>0.054316</td>\n",
       "      <td>-0.516021</td>\n",
       "      <td>0.468014</td>\n",
       "    </tr>\n",
       "    <tr>\n",
       "      <th>775</th>\n",
       "      <td>Yale University</td>\n",
       "      <td>7.919327</td>\n",
       "      <td>-2.068329</td>\n",
       "      <td>2.073564</td>\n",
       "      <td>0.852054</td>\n",
       "      <td>-0.947755</td>\n",
       "      <td>-2.069937</td>\n",
       "    </tr>\n",
       "    <tr>\n",
       "      <th>776</th>\n",
       "      <td>York College of Pennsylvania</td>\n",
       "      <td>-0.469508</td>\n",
       "      <td>0.366661</td>\n",
       "      <td>-1.328915</td>\n",
       "      <td>-0.108022</td>\n",
       "      <td>-1.132176</td>\n",
       "      <td>0.839893</td>\n",
       "    </tr>\n",
       "  </tbody>\n",
       "</table>\n",
       "<p>777 rows × 7 columns</p>\n",
       "</div>"
      ],
      "text/plain": [
       "                              Names  Willingness to spend  Admission rate  \\\n",
       "0      Abilene Christian University             -1.592855        0.767334   \n",
       "1                Adelphi University             -2.192402       -0.578830   \n",
       "2                    Adrian College             -1.430964       -1.092819   \n",
       "3               Agnes Scott College              2.855557       -2.630612   \n",
       "4         Alaska Pacific University             -2.212008        0.021631   \n",
       "..                              ...                   ...             ...   \n",
       "772         Worcester State College             -3.328458        1.220255   \n",
       "773               Xavier University              0.199389       -0.686689   \n",
       "774  Xavier University of Louisiana             -0.732561       -0.077235   \n",
       "775                 Yale University              7.919327       -2.068329   \n",
       "776    York College of Pennsylvania             -0.469508        0.366661   \n",
       "\n",
       "     College Expenses   Faculty  Competition  Student Pool  \n",
       "0           -0.101074 -0.921749    -0.743975     -0.298306  \n",
       "1            2.278798  3.588918     1.059997     -0.177137  \n",
       "2           -0.438093  0.677241    -0.369613     -0.960592  \n",
       "3            0.141722 -1.295486    -0.183837     -1.059508  \n",
       "4            2.387030 -1.114538     0.684451      0.004918  \n",
       "..                ...       ...          ...           ...  \n",
       "772         -0.383388  0.108555     0.776996      0.309429  \n",
       "773          0.051563  0.562269     0.375191      0.373343  \n",
       "774         -0.000406  0.054316    -0.516021      0.468014  \n",
       "775          2.073564  0.852054    -0.947755     -2.069937  \n",
       "776         -1.328915 -0.108022    -1.132176      0.839893  \n",
       "\n",
       "[777 rows x 7 columns]"
      ]
     },
     "execution_count": 164,
     "metadata": {},
     "output_type": "execute_result"
    }
   ],
   "source": [
    "df_new = pd.concat([df_cat, df_pca], axis=1)\n",
    "df_new"
   ]
  },
  {
   "cell_type": "code",
   "execution_count": 84,
   "metadata": {},
   "outputs": [
    {
     "data": {
      "text/plain": [
       "(777, 6)"
      ]
     },
     "execution_count": 84,
     "metadata": {},
     "output_type": "execute_result"
    }
   ],
   "source": [
    "df_new.shape"
   ]
  },
  {
   "cell_type": "code",
   "execution_count": 85,
   "metadata": {},
   "outputs": [
    {
     "data": {
      "text/html": [
       "<div>\n",
       "<style scoped>\n",
       "    .dataframe tbody tr th:only-of-type {\n",
       "        vertical-align: middle;\n",
       "    }\n",
       "\n",
       "    .dataframe tbody tr th {\n",
       "        vertical-align: top;\n",
       "    }\n",
       "\n",
       "    .dataframe thead th {\n",
       "        text-align: right;\n",
       "    }\n",
       "</style>\n",
       "<table border=\"1\" class=\"dataframe\">\n",
       "  <thead>\n",
       "    <tr style=\"text-align: right;\">\n",
       "      <th></th>\n",
       "      <th>Names</th>\n",
       "      <th>Willingness to spend</th>\n",
       "      <th>Competition</th>\n",
       "      <th>College Expenses</th>\n",
       "      <th>Faculty</th>\n",
       "      <th>Student Pool</th>\n",
       "    </tr>\n",
       "  </thead>\n",
       "  <tbody>\n",
       "    <tr>\n",
       "      <th>0</th>\n",
       "      <td>Abilene Christian University</td>\n",
       "      <td>-1.592855</td>\n",
       "      <td>0.767334</td>\n",
       "      <td>-0.101074</td>\n",
       "      <td>-0.921749</td>\n",
       "      <td>-0.743975</td>\n",
       "    </tr>\n",
       "    <tr>\n",
       "      <th>1</th>\n",
       "      <td>Adelphi University</td>\n",
       "      <td>-2.192402</td>\n",
       "      <td>-0.578830</td>\n",
       "      <td>2.278797</td>\n",
       "      <td>3.588919</td>\n",
       "      <td>1.059997</td>\n",
       "    </tr>\n",
       "    <tr>\n",
       "      <th>2</th>\n",
       "      <td>Adrian College</td>\n",
       "      <td>-1.430964</td>\n",
       "      <td>-1.092819</td>\n",
       "      <td>-0.438093</td>\n",
       "      <td>0.677241</td>\n",
       "      <td>-0.369613</td>\n",
       "    </tr>\n",
       "    <tr>\n",
       "      <th>3</th>\n",
       "      <td>Agnes Scott College</td>\n",
       "      <td>2.855557</td>\n",
       "      <td>-2.630612</td>\n",
       "      <td>0.141720</td>\n",
       "      <td>-1.295485</td>\n",
       "      <td>-0.183836</td>\n",
       "    </tr>\n",
       "    <tr>\n",
       "      <th>4</th>\n",
       "      <td>Alaska Pacific University</td>\n",
       "      <td>-2.212008</td>\n",
       "      <td>0.021631</td>\n",
       "      <td>2.387029</td>\n",
       "      <td>-1.114538</td>\n",
       "      <td>0.684451</td>\n",
       "    </tr>\n",
       "  </tbody>\n",
       "</table>\n",
       "</div>"
      ],
      "text/plain": [
       "                          Names  Willingness to spend  Competition  \\\n",
       "0  Abilene Christian University             -1.592855     0.767334   \n",
       "1            Adelphi University             -2.192402    -0.578830   \n",
       "2                Adrian College             -1.430964    -1.092819   \n",
       "3           Agnes Scott College              2.855557    -2.630612   \n",
       "4     Alaska Pacific University             -2.212008     0.021631   \n",
       "\n",
       "   College Expenses   Faculty  Student Pool  \n",
       "0         -0.101074 -0.921749     -0.743975  \n",
       "1          2.278797  3.588919      1.059997  \n",
       "2         -0.438093  0.677241     -0.369613  \n",
       "3          0.141720 -1.295485     -0.183836  \n",
       "4          2.387029 -1.114538      0.684451  "
      ]
     },
     "execution_count": 85,
     "metadata": {},
     "output_type": "execute_result"
    }
   ],
   "source": [
    "df_new.head()\n"
   ]
  },
  {
   "cell_type": "code",
   "execution_count": 86,
   "metadata": {},
   "outputs": [
    {
     "data": {
      "text/html": [
       "<div>\n",
       "<style scoped>\n",
       "    .dataframe tbody tr th:only-of-type {\n",
       "        vertical-align: middle;\n",
       "    }\n",
       "\n",
       "    .dataframe tbody tr th {\n",
       "        vertical-align: top;\n",
       "    }\n",
       "\n",
       "    .dataframe thead th {\n",
       "        text-align: right;\n",
       "    }\n",
       "</style>\n",
       "<table border=\"1\" class=\"dataframe\">\n",
       "  <thead>\n",
       "    <tr style=\"text-align: right;\">\n",
       "      <th></th>\n",
       "      <th>Names</th>\n",
       "      <th>Willingness to spend</th>\n",
       "      <th>Competition</th>\n",
       "      <th>College Expenses</th>\n",
       "      <th>Faculty</th>\n",
       "      <th>Student Pool</th>\n",
       "    </tr>\n",
       "  </thead>\n",
       "  <tbody>\n",
       "    <tr>\n",
       "      <th>count</th>\n",
       "      <td>777</td>\n",
       "      <td>7.770000e+02</td>\n",
       "      <td>7.770000e+02</td>\n",
       "      <td>7.770000e+02</td>\n",
       "      <td>7.770000e+02</td>\n",
       "      <td>7.770000e+02</td>\n",
       "    </tr>\n",
       "    <tr>\n",
       "      <th>unique</th>\n",
       "      <td>777</td>\n",
       "      <td>NaN</td>\n",
       "      <td>NaN</td>\n",
       "      <td>NaN</td>\n",
       "      <td>NaN</td>\n",
       "      <td>NaN</td>\n",
       "    </tr>\n",
       "    <tr>\n",
       "      <th>top</th>\n",
       "      <td>Monmouth College</td>\n",
       "      <td>NaN</td>\n",
       "      <td>NaN</td>\n",
       "      <td>NaN</td>\n",
       "      <td>NaN</td>\n",
       "      <td>NaN</td>\n",
       "    </tr>\n",
       "    <tr>\n",
       "      <th>freq</th>\n",
       "      <td>1</td>\n",
       "      <td>NaN</td>\n",
       "      <td>NaN</td>\n",
       "      <td>NaN</td>\n",
       "      <td>NaN</td>\n",
       "      <td>NaN</td>\n",
       "    </tr>\n",
       "    <tr>\n",
       "      <th>mean</th>\n",
       "      <td>NaN</td>\n",
       "      <td>-1.300261e-17</td>\n",
       "      <td>-1.485298e-16</td>\n",
       "      <td>6.858521e-18</td>\n",
       "      <td>1.859302e-17</td>\n",
       "      <td>4.515193e-17</td>\n",
       "    </tr>\n",
       "    <tr>\n",
       "      <th>std</th>\n",
       "      <td>NaN</td>\n",
       "      <td>2.334635e+00</td>\n",
       "      <td>2.117453e+00</td>\n",
       "      <td>1.083821e+00</td>\n",
       "      <td>1.004094e+00</td>\n",
       "      <td>9.665564e-01</td>\n",
       "    </tr>\n",
       "    <tr>\n",
       "      <th>min</th>\n",
       "      <td>NaN</td>\n",
       "      <td>-5.662905e+00</td>\n",
       "      <td>-3.590891e+00</td>\n",
       "      <td>-2.941288e+00</td>\n",
       "      <td>-2.943103e+00</td>\n",
       "      <td>-2.690123e+00</td>\n",
       "    </tr>\n",
       "    <tr>\n",
       "      <th>25%</th>\n",
       "      <td>NaN</td>\n",
       "      <td>-1.731200e+00</td>\n",
       "      <td>-1.348075e+00</td>\n",
       "      <td>-6.663062e-01</td>\n",
       "      <td>-6.558314e-01</td>\n",
       "      <td>-6.998494e-01</td>\n",
       "    </tr>\n",
       "    <tr>\n",
       "      <th>50%</th>\n",
       "      <td>NaN</td>\n",
       "      <td>-2.994567e-01</td>\n",
       "      <td>-6.268330e-01</td>\n",
       "      <td>-1.010741e-01</td>\n",
       "      <td>-5.842815e-02</td>\n",
       "      <td>-5.112369e-02</td>\n",
       "    </tr>\n",
       "    <tr>\n",
       "      <th>75%</th>\n",
       "      <td>NaN</td>\n",
       "      <td>1.339533e+00</td>\n",
       "      <td>6.924474e-01</td>\n",
       "      <td>4.943713e-01</td>\n",
       "      <td>5.987762e-01</td>\n",
       "      <td>6.313472e-01</td>\n",
       "    </tr>\n",
       "    <tr>\n",
       "      <th>max</th>\n",
       "      <td>NaN</td>\n",
       "      <td>8.047182e+00</td>\n",
       "      <td>1.200237e+01</td>\n",
       "      <td>9.006415e+00</td>\n",
       "      <td>5.177646e+00</td>\n",
       "      <td>4.248198e+00</td>\n",
       "    </tr>\n",
       "  </tbody>\n",
       "</table>\n",
       "</div>"
      ],
      "text/plain": [
       "                   Names  Willingness to spend   Competition  \\\n",
       "count                777          7.770000e+02  7.770000e+02   \n",
       "unique               777                   NaN           NaN   \n",
       "top     Monmouth College                   NaN           NaN   \n",
       "freq                   1                   NaN           NaN   \n",
       "mean                 NaN         -1.300261e-17 -1.485298e-16   \n",
       "std                  NaN          2.334635e+00  2.117453e+00   \n",
       "min                  NaN         -5.662905e+00 -3.590891e+00   \n",
       "25%                  NaN         -1.731200e+00 -1.348075e+00   \n",
       "50%                  NaN         -2.994567e-01 -6.268330e-01   \n",
       "75%                  NaN          1.339533e+00  6.924474e-01   \n",
       "max                  NaN          8.047182e+00  1.200237e+01   \n",
       "\n",
       "        College Expenses       Faculty  Student Pool  \n",
       "count       7.770000e+02  7.770000e+02  7.770000e+02  \n",
       "unique               NaN           NaN           NaN  \n",
       "top                  NaN           NaN           NaN  \n",
       "freq                 NaN           NaN           NaN  \n",
       "mean        6.858521e-18  1.859302e-17  4.515193e-17  \n",
       "std         1.083821e+00  1.004094e+00  9.665564e-01  \n",
       "min        -2.941288e+00 -2.943103e+00 -2.690123e+00  \n",
       "25%        -6.663062e-01 -6.558314e-01 -6.998494e-01  \n",
       "50%        -1.010741e-01 -5.842815e-02 -5.112369e-02  \n",
       "75%         4.943713e-01  5.987762e-01  6.313472e-01  \n",
       "max         9.006415e+00  5.177646e+00  4.248198e+00  "
      ]
     },
     "execution_count": 86,
     "metadata": {},
     "output_type": "execute_result"
    }
   ],
   "source": [
    "df_new.describe(include='all')"
   ]
  },
  {
   "cell_type": "code",
   "execution_count": 182,
   "metadata": {},
   "outputs": [],
   "source": [
    "from sklearn.model_selection import train_test_split\n"
   ]
  },
  {
   "cell_type": "code",
   "execution_count": null,
   "metadata": {},
   "outputs": [],
   "source": []
  }
 ],
 "metadata": {
  "kernelspec": {
   "display_name": "Python 3",
   "language": "python",
   "name": "python3"
  },
  "language_info": {
   "codemirror_mode": {
    "name": "ipython",
    "version": 3
   },
   "file_extension": ".py",
   "mimetype": "text/x-python",
   "name": "python",
   "nbconvert_exporter": "python",
   "pygments_lexer": "ipython3",
   "version": "3.7.6"
  }
 },
 "nbformat": 4,
 "nbformat_minor": 4
}
